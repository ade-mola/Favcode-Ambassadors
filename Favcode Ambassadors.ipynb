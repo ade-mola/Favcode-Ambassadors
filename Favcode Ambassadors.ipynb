{
 "cells": [
  {
   "cell_type": "markdown",
   "metadata": {},
   "source": [
    "## **Data Scrapping**\n",
    "\n",
    "**This is a code written to scrap, clean and analyze the FavCode Ambassador List.**"
   ]
  },
  {
   "cell_type": "code",
   "execution_count": 2,
   "metadata": {},
   "outputs": [],
   "source": [
    "import numpy as np\n",
    "import pandas as pd\n",
    "import requests\n",
    "from bs4 import BeautifulSoup as bs"
   ]
  },
  {
   "cell_type": "code",
   "execution_count": 8,
   "metadata": {},
   "outputs": [
    {
     "data": {
      "text/plain": [
       "b'<!DOCTYPE html><html lang=\"en-US\" prefix=\"og: http://ogp.me/ns#\"><head><meta charset=\\'UTF-8\\'><meta name=\"viewport\" content=\"width=device-width, initial-scale=1\"><link rel=\"profile\" href=\"http://gmpg.org/xfn/11\"><link rel=\"pingback\" href=\"https://blog.favcode54.org/xmlrpc.php\"><link type=\"text/css\" media=\"all\" href=\"https://blog.favcode54.org/wp-content/cache/autoptimize/css/autoptimize_5aa1efe852b05ed55aa922351cd48541.css\" rel=\"stylesheet\" /><title>22 Become FavCode54 Student Ambassadors - Blog | FavCode54</title> <script>function theChampLoadEvent(e){var t=window.onload;if(typeof window.onload!=\"function\"){window.onload=e}else{window.onload=function(){t();e()}}}</script> <script type=\"text/javascript\">var theChampCloseIconPath = \\'https://blog.favcode54.org/wp-content/plugins/super-socializer/images/close.png\\';var heateorSsSDKBlockedMsg = `Your browser is blocking some features of this website. Please follow the instructions at <a href=\\\\\\'http://support.heateor.com/browser-blocking-social-features/\\\\\\' target=\\\\\\'_blank\\\\\\' style=\\\\\\'color:#33a9d8\\\\\\'>http://support.heateor.com/browser-blocking-social-features/</a> to unblock these.`</script> <script>var theChampSiteUrl = \\'https://blog.favcode54.org\\', theChampVerified = 0, theChampEmailPopup = 0;</script> <script>var theChampFBKey = \\'\\', theChampFBLang = \\'en_US\\', theChampFbLikeMycred = 0, theChampSsga = 0, theChampCommentNotification = 0, theChampHeateorFcmRecentComments = 0, theChampFbIosLogin = 0;</script> <script>var theChampFBCommentUrl = \\'https://blog.favcode54.org/2018/07/22-become-favcode54-student-ambassadors/\\'; var theChampFBCommentColor = \\'\\'; var theChampFBCommentNumPosts = \\'\\'; var theChampFBCommentWidth = \\'100%\\'; var theChampFBCommentOrderby = \\'\\'; var theChampCommentingTabs = \"wordpress,facebook,googleplus,disqus\", theChampGpCommentsUrl = \\'https://blog.favcode54.org/2018/07/22-become-favcode54-student-ambassadors/\\', theChampDisqusShortname = \\'\\', theChampScEnabledTabs = \\'wordpress,fb\\', theChampScLabel = \\'Leave a reply\\', theChampScTabLabels = {\"wordpress\":\"Default Comments (0)\",\"fb\":\"Facebook Comments (<fb:comments-count href=https:\\\\/\\\\/blog.favcode54.org\\\\/2018\\\\/07\\\\/22-become-favcode54-student-ambassadors\\\\/><\\\\/fb:comments-count>)\",\"googleplus\":\"G+ Comments\",\"disqus\":\"Disqus Comments\"}, theChampGpCommentsWidth = 0, theChampCommentingId = \\'respond\\'</script> <script>var theChampSharingAjaxUrl = \\'https://blog.favcode54.org/wp-admin/admin-ajax.php\\', heateorSsUrlCountFetched = [], heateorSsSharesText = \\'Shares\\', heateorSsShareText = \\'Share\\', theChampPluginIconPath = \\'https://blog.favcode54.org/wp-content/plugins/super-socializer/images/logo.png\\', theChampHorizontalSharingCountEnable = 1, theChampVerticalSharingCountEnable = 0, theChampSharingOffset = -10, theChampCounterOffset = -10, theChampMobileStickySharingEnabled = 0, heateorSsCopyLinkMessage = \"Link copied.\";\\n\\t\\tvar heateorSsHorSharingShortUrl = \"https://blog.favcode54.org/2018/07/22-become-favcode54-student-ambassadors/\";var heateorSsVerticalSharingShortUrl = \"https://blog.favcode54.org/2018/07/22-become-favcode54-student-ambassadors/\";</script> <meta name=\"description\" content=\"FavCode54 has thrived on the support it enjoys from successful partnerships\\xe2\\x80\\x95 the exact reason that informed our call for young people who are willing to curate the Tech Company\\xe2\\x80\\x99s vision as Student Ambassadors in campuses of their tertiary institutions through well-planned and properly supervised tech events.\"/><link rel=\"canonical\" href=\"https://blog.favcode54.org/2018/07/22-become-favcode54-student-ambassadors/\" /><meta property=\"og:locale\" content=\"en_US\" /><meta property=\"og:type\" content=\"article\" /><meta property=\"og:title\" content=\"22 Become FavCode54 Student Ambassadors - Blog | FavCode54\" /><meta property=\"og:description\" content=\"FavCode54 has thrived on the support it enjoys from successful partnerships\\xe2\\x80\\x95 the exact reason that informed our call for young people who are willing to curate the Tech Company\\xe2\\x80\\x99s vision as Student Ambassadors in campuses of their tertiary institutions through well-planned and properly supervised tech events.\" /><meta property=\"og:url\" content=\"https://blog.favcode54.org/2018/07/22-become-favcode54-student-ambassadors/\" /><meta property=\"og:site_name\" content=\"Blog | FavCode54\" /><meta property=\"article:publisher\" content=\"http://facebook.com/favcode54\" /><meta property=\"article:tag\" content=\"Ambassadors\" /><meta property=\"article:tag\" content=\"FavCode54\" /><meta property=\"article:tag\" content=\"SAP\" /><meta property=\"article:tag\" content=\"Student Ambassadors\" /><meta property=\"article:section\" content=\"News &amp; updates\" /><meta property=\"article:published_time\" content=\"2018-07-12T15:32:10+00:00\" /><meta property=\"article:modified_time\" content=\"2018-07-12T15:37:30+00:00\" /><meta property=\"og:updated_time\" content=\"2018-07-12T15:37:30+00:00\" /><meta property=\"og:image\" content=\"https://blog.favcode54.org/wp-content/uploads/2018/07/FAVCODE54-SAP.jpg\" /><meta property=\"og:image:secure_url\" content=\"https://blog.favcode54.org/wp-content/uploads/2018/07/FAVCODE54-SAP.jpg\" /><meta property=\"og:image:width\" content=\"1920\" /><meta property=\"og:image:height\" content=\"1080\" /><meta name=\"twitter:card\" content=\"summary_large_image\" /><meta name=\"twitter:description\" content=\"FavCode54 has thrived on the support it enjoys from successful partnerships\\xe2\\x80\\x95 the exact reason that informed our call for young people who are willing to curate the Tech Company\\xe2\\x80\\x99s vision as Student Ambassadors in campuses of their tertiary institutions through well-planned and properly supervised tech events.\" /><meta name=\"twitter:title\" content=\"22 Become FavCode54 Student Ambassadors - Blog | FavCode54\" /><meta name=\"twitter:site\" content=\"@favCode54\" /><meta name=\"twitter:image\" content=\"https://blog.favcode54.org/wp-content/uploads/2018/07/FAVCODE54-SAP.jpg\" /><meta name=\"twitter:creator\" content=\"@favCode54\" /> <script type=\\'application/ld+json\\'>{\"@context\":\"https:\\\\/\\\\/schema.org\",\"@type\":\"Organization\",\"url\":\"https:\\\\/\\\\/blog.favcode54.org\\\\/\",\"sameAs\":[\"http:\\\\/\\\\/facebook.com\\\\/favcode54\",\"http:\\\\/\\\\/instagram.com\\\\/favcode54\",\"https:\\\\/\\\\/www.linkedin.com\\\\/company\\\\/favcode54\\\\/\",\"https:\\\\/\\\\/twitter.com\\\\/favCode54\"],\"@id\":\"https:\\\\/\\\\/blog.favcode54.org\\\\/#organization\",\"name\":\"FavCode54\",\"logo\":\"https:\\\\/\\\\/favcode54.org\\\\/blog\\\\/wp-content\\\\/uploads\\\\/2018\\\\/03\\\\/favcode54-logo-white2.png\"}</script> <link rel=\"amphtml\" href=\"https://blog.favcode54.org/2018/07/22-become-favcode54-student-ambassadors/amp/\" /><link rel=\\'dns-prefetch\\' href=\\'//maxcdn.bootstrapcdn.com\\' /><link rel=\\'dns-prefetch\\' href=\\'//fonts.googleapis.com\\' /><link rel=\\'dns-prefetch\\' href=\\'//s.w.org\\' /><link rel=\"alternate\" type=\"application/rss+xml\" title=\"Blog | FavCode54 &raquo; Feed\" href=\"https://blog.favcode54.org/feed/\" /><link rel=\"alternate\" type=\"application/rss+xml\" title=\"Blog | FavCode54 &raquo; Comments Feed\" href=\"https://blog.favcode54.org/comments/feed/\" /><link rel=\"alternate\" type=\"application/rss+xml\" title=\"Blog | FavCode54 &raquo; 22 Become FavCode54 Student Ambassadors Comments Feed\" href=\"https://blog.favcode54.org/2018/07/22-become-favcode54-student-ambassadors/feed/\" /> <script type=\"text/javascript\">window._wpemojiSettings = {\"baseUrl\":\"https:\\\\/\\\\/s.w.org\\\\/images\\\\/core\\\\/emoji\\\\/2.4\\\\/72x72\\\\/\",\"ext\":\".png\",\"svgUrl\":\"https:\\\\/\\\\/s.w.org\\\\/images\\\\/core\\\\/emoji\\\\/2.4\\\\/svg\\\\/\",\"svgExt\":\".svg\",\"source\":{\"concatemoji\":\"https:\\\\/\\\\/blog.favcode54.org\\\\/wp-includes\\\\/js\\\\/wp-emoji-release.min.js?ver=4.9.7\"}};\\n\\t\\t\\t!function(a,b,c){function d(a,b){var c=String.fromCharCode;l.clearRect(0,0,k.width,k.height),l.fillText(c.apply(this,a),0,0);var d=k.toDataURL();l.clearRect(0,0,k.width,k.height),l.fillText(c.apply(this,b),0,0);var e=k.toDataURL();return d===e}function e(a){var b;if(!l||!l.fillText)return!1;switch(l.textBaseline=\"top\",l.font=\"600 32px Arial\",a){case\"flag\":return!(b=d([55356,56826,55356,56819],[55356,56826,8203,55356,56819]))&&(b=d([55356,57332,56128,56423,56128,56418,56128,56421,56128,56430,56128,56423,56128,56447],[55356,57332,8203,56128,56423,8203,56128,56418,8203,56128,56421,8203,56128,56430,8203,56128,56423,8203,56128,56447]),!b);case\"emoji\":return b=d([55357,56692,8205,9792,65039],[55357,56692,8203,9792,65039]),!b}return!1}function f(a){var c=b.createElement(\"script\");c.src=a,c.defer=c.type=\"text/javascript\",b.getElementsByTagName(\"head\")[0].appendChild(c)}var g,h,i,j,k=b.createElement(\"canvas\"),l=k.getContext&&k.getContext(\"2d\");for(j=Array(\"flag\",\"emoji\"),c.supports={everything:!0,everythingExceptFlag:!0},i=0;i<j.length;i++)c.supports[j[i]]=e(j[i]),c.supports.everything=c.supports.everything&&c.supports[j[i]],\"flag\"!==j[i]&&(c.supports.everythingExceptFlag=c.supports.everythingExceptFlag&&c.supports[j[i]]);c.supports.everythingExceptFlag=c.supports.everythingExceptFlag&&!c.supports.flag,c.DOMReady=!1,c.readyCallback=function(){c.DOMReady=!0},c.supports.everything||(h=function(){c.readyCallback()},b.addEventListener?(b.addEventListener(\"DOMContentLoaded\",h,!1),a.addEventListener(\"load\",h,!1)):(a.attachEvent(\"onload\",h),b.attachEvent(\"onreadystatechange\",function(){\"complete\"===b.readyState&&c.readyCallback()})),g=c.source||{},g.concatemoji?f(g.concatemoji):g.wpemoji&&g.twemoji&&(f(g.twemoji),f(g.wpemoji)))}(window,document,window._wpemojiSettings);</script> <!--noptimize--><script>\\n\\t\\t\\t\\t\\tadvanced_ads_ready=function(){var fns=[],listener,doc=typeof document===\"object\"&&document,hack=doc&&doc.documentElement.doScroll,domContentLoaded=\"DOMContentLoaded\",loaded=doc&&(hack?/^loaded|^c/:/^loaded|^i|^c/).test(doc.readyState);if(!loaded&&doc){listener=function(){doc.removeEventListener(domContentLoaded,listener);window.removeEventListener(\"load\",listener);loaded=1;while(listener=fns.shift())listener()};doc.addEventListener(domContentLoaded,listener);window.addEventListener(\"load\",listener)}return function(fn){loaded?setTimeout(fn,0):fns.push(fn)}}();\\n\\t\\t\\t</script><!--/noptimize--><link rel=\\'stylesheet\\' id=\\'dashicons-css\\'  href=\\'https://blog.favcode54.org/wp-includes/css/dashicons.min.css?ver=4.9.7\\' type=\\'text/css\\' media=\\'all\\' /><link rel=\\'stylesheet\\' id=\\'obfx-module-pub-css-menu-icons-0-css\\'  href=\\'https://maxcdn.bootstrapcdn.com/font-awesome/4.7.0/css/font-awesome.min.css?ver=2.4.6\\' type=\\'text/css\\' media=\\'all\\' /><link rel=\\'stylesheet\\' id=\\'hestia_fonts-css\\'  href=\\'https://fonts.googleapis.com/css?family=Roboto%3A300%2C400%2C500%2C700%7CRoboto+Slab%3A400%2C700&#038;subset=latin%2Clatin-ext&#038;ver=1.1.71\\' type=\\'text/css\\' media=\\'all\\' /><link rel=\\'stylesheet\\' id=\\'hestia-google-font-droid-sans-css\\'  href=\\'//fonts.googleapis.com/css?family=Droid+Sans%3A300%2C400%2C500%2C700&#038;subset=latin&#038;ver=4.9.7\\' type=\\'text/css\\' media=\\'all\\' /> <script type=\\'text/javascript\\' src=\\'https://blog.favcode54.org/wp-includes/js/jquery/jquery.js?ver=1.12.4\\'></script> <script type=\\'text/javascript\\'>var public_ajax = {\"ajax_url\":\"https:\\\\/\\\\/blog.favcode54.org\\\\/wp-admin\\\\/admin-ajax.php\"};\\nvar public_ajax = {\"ajax_url\":\"https:\\\\/\\\\/blog.favcode54.org\\\\/wp-admin\\\\/admin-ajax.php\"};</script> <link rel=\\'https://api.w.org/\\' href=\\'https://blog.favcode54.org/wp-json/\\' /><link rel=\"EditURI\" type=\"application/rsd+xml\" title=\"RSD\" href=\"https://blog.favcode54.org/xmlrpc.php?rsd\" /><link rel=\"wlwmanifest\" type=\"application/wlwmanifest+xml\" href=\"https://blog.favcode54.org/wp-includes/wlwmanifest.xml\" /><meta name=\"generator\" content=\"WordPress 4.9.7\" /><link rel=\\'shortlink\\' href=\\'https://blog.favcode54.org/?p=423\\' /><link rel=\"alternate\" type=\"application/json+oembed\" href=\"https://blog.favcode54.org/wp-json/oembed/1.0/embed?url=https%3A%2F%2Fblog.favcode54.org%2F2018%2F07%2F22-become-favcode54-student-ambassadors%2F\" /><link rel=\"alternate\" type=\"text/xml+oembed\" href=\"https://blog.favcode54.org/wp-json/oembed/1.0/embed?url=https%3A%2F%2Fblog.favcode54.org%2F2018%2F07%2F22-become-favcode54-student-ambassadors%2F&#038;format=xml\" /><link rel=\"icon\" href=\"https://blog.favcode54.org/wp-content/uploads/2018/03/favCodeLogs-150x150.png\" sizes=\"32x32\" /><link rel=\"icon\" href=\"https://blog.favcode54.org/wp-content/uploads/2018/03/favCodeLogs.png\" sizes=\"192x192\" /><link rel=\"apple-touch-icon-precomposed\" href=\"https://blog.favcode54.org/wp-content/uploads/2018/03/favCodeLogs.png\" /><meta name=\"msapplication-TileImage\" content=\"https://blog.favcode54.org/wp-content/uploads/2018/03/favCodeLogs.png\" /></head><body class=\"post-template-default single single-post postid-423 single-format-standard custom-background wp-custom-logo blog-post\"> <script async src=\"//pagead2.googlesyndication.com/pagead/js/adsbygoogle.js\"></script> <script>(adsbygoogle = window.adsbygoogle || []).push({\\n          google_ad_client: \"ca-pub-9943631061556362\",\\n          enable_page_level_ads: true\\n     });</script> <div \\n class=\"wrapper post-423 post type-post status-publish format-standard has-post-thumbnail hentry category-news-updates tag-ambassadors tag-favcode54 tag-sap tag-student-ambassadors\"><header class=\"header \"><nav class=\"navbar navbar-default navbar-fixed-top  hestia_left navbar-not-transparent\"><div class=\"container\"><div class=\"navbar-header\"><div class=\"title-logo-wrapper\"> <a class=\"navbar-brand\" href=\"https://blog.favcode54.org/\" title=\"Blog | FavCode54\"><img src=\"https://blog.favcode54.org/wp-content/uploads/2018/03/favcodelogo.png\" alt=\"Blog | FavCode54\"></a></div></div><div id=\"main-navigation\" class=\"collapse navbar-collapse\"><ul id=\"menu-primary-menu\" class=\"nav navbar-nav navbar-right\"><li id=\"menu-item-38\" class=\"menu-item menu-item-type-custom menu-item-object-custom menu-item-home menu-item-38\"><a title=\"HOME\" href=\"https://blog.favcode54.org/\"><i class=\"_mi _before dashicons dashicons-admin-home\" aria-hidden=\"true\"></i><span>HOME</span></a></li><li id=\"menu-item-279\" class=\"menu-item menu-item-type-post_type menu-item-object-page menu-item-279\"><a title=\"Ai Lab students\" href=\"https://blog.favcode54.org/ai-lab-students/\">Ai Lab students</a></li><li id=\"menu-item-134\" class=\"zerif-cus-btn menu-item menu-item-type-custom menu-item-object-custom menu-item-134\"><a title=\"Apply Now\" href=\"https://apply.favcode54.org/\"><i class=\"_mi _before dashicons dashicons-migrate\" aria-hidden=\"true\"></i><span>Apply Now</span></a></li><li class=\"hestia-search-in-menu\"><form role=\"search\" method=\"get\" class=\"hestia-search-in-nav\" action=\"https://blog.favcode54.org/\"><div class=\"hestia-nav-search\"> <span class=\"screen-reader-text\">Search for:</span> <span class=\"search-field-wrapper\"> <input type=\"search\" class=\"search-field\" placeholder=\"Search &hellip;\" value=\"\" name=\"s\" /> </span> <span class=\"search-submit-wrapper\"> <button type=\"submit\" class=\"search-submit hestia-search-submit\" ><i class=\"fa fa-search\"></i></button> </span></div></form><div class=\"hestia-toggle-search\"> <i class=\"fa fa-search\"></i></div></li></ul></div> <button type=\"button\" class=\"navbar-toggle\" data-toggle=\"collapse\" data-target=\"#main-navigation\"> <span class=\"icon-bar\"></span> <span class=\"icon-bar\"></span> <span class=\"icon-bar\"></span> <span class=\"sr-only\">Toggle Navigation</span> </button></div></nav><div id=\"primary\" class=\" page-header header-small\" data-parallax=\"active\" ><div class=\"header-filter\" style=\"background-image: url(https://blog.favcode54.org/wp-content/uploads/2018/07/FAVCODE54-SAP.jpg);\"></div></div></header><div class=\"main no-content\"><div class=\"blog-post blog-post-wrapper\"><div class=\"container\"> <script async src=\"//pagead2.googlesyndication.com/pagead/js/adsbygoogle.js\"></script> <script>(adsbygoogle = window.adsbygoogle || []).push({\\n          google_ad_client: \"ca-pub-9943631061556362\",\\n          enable_page_level_ads: true\\n     });</script> <script async src=\"//pagead2.googlesyndication.com/pagead/js/adsbygoogle.js\"></script>  <ins class=\"adsbygoogle\"\\n style=\"display:block\"\\n data-ad-client=\"ca-pub-9943631061556362\"\\n data-ad-slot=\"1772483309\"\\n data-ad-format=\"auto\"></ins> <script>(adsbygoogle = window.adsbygoogle || []).push({});</script> <div class=\"row\"><div class=\" col-md-8 single-post-wrap\"><article id=\"post-423\" class=\"section section-text\"><h1 class=\"hestia-title \\n title-in-content\">22 Become FavCode54 Student Ambassadors</h1><p class=\"author meta-in-content\"> Published by <a href=\"https://blog.favcode54.org/author/swiftlyricsgmail-com/\" class=\"vcard author\"><strong class=\"fn\">Henry Okoli</strong></a> on <time class=\"date updated published\" datetime=\"2018-07-12T15:32:10+00:00\">July 12, 2018</time></p><div style=\\'clear: both\\'></div><div  class=\\'the_champ_sharing_container the_champ_horizontal_sharing\\' super-socializer-data-href=\"https://blog.favcode54.org/2018/07/22-become-favcode54-student-ambassadors/\"super-socializer-no-counts=\"1\"><div class=\\'the_champ_sharing_title\\' style=\"font-weight:bold\" >Spread the love</div><ul  class=\"the_champ_sharing_ul\"><li class=\"theChampSharingRound\"><ss class=\"the_champ_square_count the_champ_facebook_count\" style=\"visibility:visible;display:block;\">142</ss><i style=\"width:100px;height:41px;\" alt=\"Facebook\" Title=\"Facebook\" class=\"theChampSharing theChampFacebookBackground\" onclick=\\'theChampPopup(\"https://www.facebook.com/sharer/sharer.php?u=https%3A%2F%2Fblog.favcode54.org%2F2018%2F07%2F22-become-favcode54-student-ambassadors%2F\")\\'><ss style=\"display:block;display:block;\" class=\"theChampSharingSvg theChampFacebookSvg\"></ss></i></li><li class=\"theChampSharingRound\"><ss class=\"the_champ_square_count the_champ_twitter_count\">&nbsp;</ss><i style=\"width:100px;height:41px;\" alt=\"Twitter\" Title=\"Twitter\" class=\"theChampSharing theChampTwitterBackground\" onclick=\\'theChampPopup(\"http://twitter.com/intent/tweet?text=22%20Become%20FavCode54%20Student%20Ambassadors&url=https%3A%2F%2Fblog.favcode54.org%2F2018%2F07%2F22-become-favcode54-student-ambassadors%2F\")\\'><ss style=\"display:block;\" class=\"theChampSharingSvg theChampTwitterSvg\"></ss></i></li><li class=\"theChampSharingRound\"><ss class=\"the_champ_square_count the_champ_linkedin_count\">&nbsp;</ss><i style=\"width:100px;height:41px;\" alt=\"Linkedin\" Title=\"Linkedin\" class=\"theChampSharing theChampLinkedinBackground\" onclick=\\'theChampPopup(\"http://www.linkedin.com/shareArticle?mini=true&url=https%3A%2F%2Fblog.favcode54.org%2F2018%2F07%2F22-become-favcode54-student-ambassadors%2F&title=22%20Become%20FavCode54%20Student%20Ambassadors\")\\'><ss style=\"display:block;\" class=\"theChampSharingSvg theChampLinkedinSvg\"></ss></i></li><li class=\"theChampSharingRound\"><ss class=\"the_champ_square_count the_champ_whatsapp_count\">&nbsp;</ss><i style=\"width:100px;height:41px;\" alt=\"Whatsapp\" Title=\"Whatsapp\" class=\"theChampSharing theChampWhatsappBackground\"><a href=\"whatsapp://send?text=22%20Become%20FavCode54%20Student%20Ambassadors https%3A%2F%2Fblog.favcode54.org%2F2018%2F07%2F22-become-favcode54-student-ambassadors%2F\"><ss style=\"display:block\" class=\"theChampSharingSvg theChampWhatsappSvg\"></ss></a></i></li><li class=\"theChampSharingRound\"><ss class=\"the_champ_square_count\">&nbsp;</ss><i style=\"width:100px;height:41px;\" title=\"More\" alt=\"More\" class=\"theChampSharing theChampMoreBackground\" onclick=\"theChampMoreSharingPopup(this, \\'https://blog.favcode54.org/2018/07/22-become-favcode54-student-ambassadors/\\', \\'22%20Become%20FavCode54%20Student%20Ambassadors\\', \\'\\')\" ><ss style=\"display:block\" class=\"theChampSharingSvg theChampMoreSvg\"></ss></i></li><li class=\"theChampSharingRound\"><ss class=\"the_champ_square_count\">&nbsp;</ss><i style=\"width:100px;height:41px;margin-left:9px !important;visibility:visible;\" title=\"Total Shares\" alt=\"Total Shares\" class=\"theChampSharing theChampTCBackground\"><div class=\"theChampTotalShareCount\" style=\"font-size: 25.42px\">142</div><div class=\"theChampTotalShareText\" style=\"font-size: 15.58px\">Shares</div></i></li></ul><div style=\"clear:both\"></div></div><div style=\\'clear: both\\'></div><p>FavCode54 has thrived on the support it enjoys from successful partnerships\\xe2\\x80\\x95 the exact reason that informed our call for young people who are willing to curate the Tech Company\\xe2\\x80\\x99s vision as Student Ambassadors in campuses of their tertiary institutions through well-planned and properly-supervised tech events.</p><p>Promptly responding to our call once again, interested persons sent and we received dozens of applications among which we have shortlisted 22 successful entries after review.</p><p><strong>\\xc2\\xa0</strong></p><p><strong>MEET OUR STUDENT AMBASSADORS</strong></p><table width=\"601\"><tbody><tr><td width=\"267\"><strong>Charles Ijeoma Marvis</strong></td><td width=\"335\">Abia State University</td></tr><tr><td width=\"267\"><strong>Akerele Abraham</strong></td><td width=\"335\">Federal University of Technology, Akure</td></tr><tr><td width=\"267\"><strong>Omeh Anthony Ogbonna</strong></td><td width=\"335\">Federal University of Technology, Akure</td></tr><tr><td width=\"267\"><strong>Ebeh Elisha Chidera</strong></td><td width=\"335\">Michael Okpara University Of Agriculture, Umudike</td></tr><tr><td width=\"267\"><strong>Oluwafemi Olasubomi Aramide</strong></td><td width=\"335\">Federal University of Technology, Akure</td></tr><tr><td width=\"267\"><strong>Adelakun Temilade Ruth</strong></td><td width=\"335\">University of Ibadan</td></tr><tr><td width=\"267\"><strong>Hammed Busirah Olaitan</strong></td><td width=\"335\">Obafemi Awolowo University</td></tr><tr><td width=\"267\"><strong>Ademola Olokun</strong></td><td width=\"335\">Ladoke Akintola University of Technology, Ogbomoso</td></tr><tr><td width=\"267\"><strong>Amadi Precious Oluchi</strong></td><td width=\"335\">Cross River University of Technology</td></tr><tr><td width=\"267\"><strong>Obasi Nancy</strong></td><td width=\"335\">Alex-Ekwueme Federal University Ndufu Alike Ikwo</td></tr><tr><td width=\"267\"><strong>Oscar Ikechukwu Ekeyekwu</strong></td><td width=\"335\">University of Calabar</td></tr><tr><td width=\"267\"><strong>Yayah Mohammed Abiola</strong></td><td width=\"335\">Kwara State Polytechnic, Illorin</td></tr><tr><td width=\"267\"><strong>Japhlet Chinonso Nwamu</strong></td><td width=\"335\">University of Benin</td></tr><tr><td width=\"267\"><strong>Afolayan Raphael Oluwaseun</strong></td><td width=\"335\">Lagos City Computer College/ Lagos City polytechnic</td></tr><tr><td width=\"267\"><strong>Bolaji Ayodeji</strong></td><td width=\"335\">Federal University Lokoja, Kogi State</td></tr><tr><td width=\"267\"><strong>Jinanwa Ekeledirichukwu Somtochukwu</strong></td><td width=\"335\">University of Port Harcourt</td></tr><tr><td width=\"267\"><strong>Joyce Marcus</strong></td><td width=\"335\">Benson Idahosa University</td></tr><tr><td width=\"267\"><strong>Omang Collins Obi</strong></td><td width=\"335\">University of Calabar.</td></tr><tr><td width=\"267\"><strong>Onyenanu Princewill Odichinma</strong></td><td width=\"335\">Federal University Of Technology, Owerri</td></tr><tr><td width=\"267\"><strong>Adejumo Elijah Kayode</strong></td><td width=\"335\">University of Port Harcourt</td></tr><tr><td width=\"267\"><strong>Emeka Rhema Chiemenem</strong></td><td width=\"335\">University of Port Harcourt</td></tr><tr><td width=\"267\"><strong>Franklin Obasi</strong></td><td width=\"335\">University of Port Harcourt</td></tr></tbody></table><p>&nbsp;</p><p>We will not hesitate bringing it to public knowledge once again if the need for more Favcode54 Student Ambassadors presents itself. Until then, many Congratulations to all 22 persons who just made it into our Students Ambassador Program (SAP). <strong>#Techvangelists</strong>\\xc2\\xa0<strong>#SpreadingTechToTheWorld</strong></p></article><div class=\"section section-blog-info\"><div class=\"row\"><div class=\"col-md-6\"><div class=\"entry-categories\">Categories: <span class=\"label label-primary\"><a href=\"https://blog.favcode54.org/category/news-updates/\">News &amp; updates</a></span></div><div class=\"entry-tags\">Tags: <span class=\"entry-tag\"><a href=\"https://blog.favcode54.org/tag/ambassadors/\" rel=\"tag\">Ambassadors</a></span><span class=\"entry-tag\"><a href=\"https://blog.favcode54.org/tag/favcode54/\" rel=\"tag\">FavCode54</a></span><span class=\"entry-tag\"><a href=\"https://blog.favcode54.org/tag/sap/\" rel=\"tag\">SAP</a></span><span class=\"entry-tag\"><a href=\"https://blog.favcode54.org/tag/student-ambassadors/\" rel=\"tag\">Student Ambassadors</a></span></div></div><div class=\"col-md-6\"><div class=\"entry-social\"> <a target=\"_blank\" rel=\"tooltip\" data-original-title=\"Share on Facebook\" class=\"btn btn-just-icon btn-round btn-facebook\" href=\"https://www.facebook.com/sharer/sharer.php?u=https://blog.favcode54.org/2018/07/22-become-favcode54-student-ambassadors/\"><i class=\"fa fa-facebook\"></i></a> <a target=\"_blank\" rel=\"tooltip\" data-original-title=\"Share on Twitter\" class=\"btn btn-just-icon btn-round btn-twitter\" href=\"https://twitter.com/home?status=22 Become FavCode54 Student Ambassadors - https://blog.favcode54.org/2018/07/22-become-favcode54-student-ambassadors/\"><i class=\"fa fa-twitter\"></i></a> <a target=\"_blank\" rel=\"tooltip\" data-original-title=\" Share on Google+\" class=\"btn btn-just-icon btn-round btn-google\" href=\"https://plus.google.com/share?url=https://blog.favcode54.org/2018/07/22-become-favcode54-student-ambassadors/\"><i class=\"fa fa-google\"></i></a></div></div></div><hr><div id=\"disqus_thread\"></div></div></div><div class=\"col-md-3 blog-sidebar-wrapper col-md-offset-1\"><aside id=\"secondary\" class=\"blog-sidebar\" role=\"complementary\"><div id=\"easy_facebook_page_plugin-3\" class=\"widget widget_easy_facebook_page_plugin\"><h5>Find us on FB</h5><div id=\"fb-root\"></div> <script>(function(d, s, id) {\\n\\t\\t\\t\\t\\t  var js, fjs = d.getElementsByTagName(s)[0];\\n\\t\\t\\t\\t\\t  if (d.getElementById(id)) return;\\n\\t\\t\\t\\t\\t  js = d.createElement(s); js.id = id;\\n\\t\\t\\t\\t\\t  js.async=true; \\n\\t\\t\\t\\t\\t  js.src = \"//connect.facebook.net/en_US/all.js#xfbml=1&appId=395202813876688\";\\n\\t\\t\\t\\t\\t  fjs.parentNode.insertBefore(js, fjs);\\n\\t\\t\\t\\t\\t}(document, \\'script\\', \\'facebook-jssdk\\'));</script> <div class=\"efbl-like-box 1\"> <img class=\"efbl-loader\" src=\"https://blog.favcode54.org/wp-content/plugins/easy-facebook-likebox/public/assets/images/loader.gif\" ><div class=\"fb-page\" data-animclass=\"fadeIn \" data-href=\"https://www.facebook.com/favcode54\" data-hide-cover=false data-width=\"250\" data-height=\"260\" data-show-facepile=true  data-show-posts=false data-adapt-container-width=true data-hide-cta=false data-small-header=\"false\"></div></div></div><div id=\"custom_html-3\" class=\"widget_text widget widget_custom_html\"><div class=\"textwidget custom-html-widget\"><script async src=\"//pagead2.googlesyndication.com/pagead/js/adsbygoogle.js\"></script>  <ins class=\"adsbygoogle\"\\n style=\"display:block\"\\n data-ad-client=\"ca-pub-9943631061556362\"\\n data-ad-slot=\"1772483309\"\\n data-ad-format=\"auto\"></ins> <script>(adsbygoogle = window.adsbygoogle || []).push({});</script></div></div><div id=\"easy_facebook_feed-3\" class=\"widget widget_easy_facebook_feed\"><h5>Fb News</h5>Error occured while retrieving the facebook feed</div><div id=\"tag_cloud-3\" class=\"widget widget_tag_cloud\"><h5>Tags</h5><div class=\"tagcloud\"><a href=\"https://blog.favcode54.org/tag/africa/\" class=\"tag-cloud-link tag-link-9 tag-link-position-1\" style=\"font-size: 8pt;\" aria-label=\"africa (1 item)\">africa<span class=\"tag-link-count\"> (1)</span></a> <a href=\"https://blog.favcode54.org/tag/ambassadors/\" class=\"tag-cloud-link tag-link-21 tag-link-position-2\" style=\"font-size: 8pt;\" aria-label=\"Ambassadors (1 item)\">Ambassadors<span class=\"tag-link-count\"> (1)</span></a> <a href=\"https://blog.favcode54.org/tag/application/\" class=\"tag-cloud-link tag-link-15 tag-link-position-3\" style=\"font-size: 8pt;\" aria-label=\"application (1 item)\">application<span class=\"tag-link-count\"> (1)</span></a> <a href=\"https://blog.favcode54.org/tag/apply/\" class=\"tag-cloud-link tag-link-14 tag-link-position-4\" style=\"font-size: 8pt;\" aria-label=\"apply (1 item)\">apply<span class=\"tag-link-count\"> (1)</span></a> <a href=\"https://blog.favcode54.org/tag/code/\" class=\"tag-cloud-link tag-link-8 tag-link-position-5\" style=\"font-size: 8pt;\" aria-label=\"code (1 item)\">code<span class=\"tag-link-count\"> (1)</span></a> <a href=\"https://blog.favcode54.org/tag/codewithfavour/\" class=\"tag-cloud-link tag-link-11 tag-link-position-6\" style=\"font-size: 22pt;\" aria-label=\"codewithfavour (2 items)\">codewithfavour<span class=\"tag-link-count\"> (2)</span></a> <a href=\"https://blog.favcode54.org/tag/favcode54/\" class=\"tag-cloud-link tag-link-23 tag-link-position-7\" style=\"font-size: 8pt;\" aria-label=\"FavCode54 (1 item)\">FavCode54<span class=\"tag-link-count\"> (1)</span></a> <a href=\"https://blog.favcode54.org/tag/favour/\" class=\"tag-cloud-link tag-link-6 tag-link-position-8\" style=\"font-size: 8pt;\" aria-label=\"favour (1 item)\">favour<span class=\"tag-link-count\"> (1)</span></a> <a href=\"https://blog.favcode54.org/tag/favourori/\" class=\"tag-cloud-link tag-link-7 tag-link-position-9\" style=\"font-size: 8pt;\" aria-label=\"favourori (1 item)\">favourori<span class=\"tag-link-count\"> (1)</span></a> <a href=\"https://blog.favcode54.org/tag/forforever/\" class=\"tag-cloud-link tag-link-12 tag-link-position-10\" style=\"font-size: 8pt;\" aria-label=\"forforever (1 item)\">forforever<span class=\"tag-link-count\"> (1)</span></a> <a href=\"https://blog.favcode54.org/tag/form/\" class=\"tag-cloud-link tag-link-13 tag-link-position-11\" style=\"font-size: 8pt;\" aria-label=\"form (1 item)\">form<span class=\"tag-link-count\"> (1)</span></a> <a href=\"https://blog.favcode54.org/tag/nigeria/\" class=\"tag-cloud-link tag-link-10 tag-link-position-12\" style=\"font-size: 8pt;\" aria-label=\"nigeria (1 item)\">nigeria<span class=\"tag-link-count\"> (1)</span></a> <a href=\"https://blog.favcode54.org/tag/sap/\" class=\"tag-cloud-link tag-link-20 tag-link-position-13\" style=\"font-size: 8pt;\" aria-label=\"SAP (1 item)\">SAP<span class=\"tag-link-count\"> (1)</span></a> <a href=\"https://blog.favcode54.org/tag/student-ambassadors/\" class=\"tag-cloud-link tag-link-22 tag-link-position-14\" style=\"font-size: 8pt;\" aria-label=\"Student Ambassadors (1 item)\">Student Ambassadors<span class=\"tag-link-count\"> (1)</span></a> <a href=\"https://blog.favcode54.org/tag/tech/\" class=\"tag-cloud-link tag-link-5 tag-link-position-15\" style=\"font-size: 8pt;\" aria-label=\"tech (1 item)\">tech<span class=\"tag-link-count\"> (1)</span></a></div></div></aside></div></div></div></div></div><div class=\"section related-posts\"><div class=\"container\"><div class=\"row\"><div class=\"col-md-12\"><h2 class=\"hestia-title text-center\">Related Posts</h2><div class=\"row\"><div class=\"col-md-4\"><div class=\"card card-blog\"><div class=\"card-image\"> <a href=\"https://blog.favcode54.org/2018/06/guess-how-many-hours-left-to-close-of-favcode54-applications/\" title=\"Guess How Many Hours Left to Close of FavCode54 Applications?\"> <img width=\"360\" height=\"240\" src=\"https://blog.favcode54.org/wp-content/uploads/2018/06/FAVCODE54-1-360x240.jpg\" class=\"attachment-hestia-blog size-hestia-blog wp-post-image\" alt=\"\" /> </a></div><div class=\"content\"><h6 class=\"category text-info\"><a href=\"https://blog.favcode54.org/category/news-updates/\" title=\"View all posts in News &amp; updates\" >News &amp; updates</a></h6><h4 class=\"card-title\"> <a class=\"blog-item-title-link\" href=\"https://blog.favcode54.org/2018/06/guess-how-many-hours-left-to-close-of-favcode54-applications/\" title=\"Guess How Many Hours Left to Close of FavCode54 Applications?\" rel=\"bookmark\"> Guess How Many Hours Left to Close of FavCode54 Applications? </a></h4><p class=\"card-description\">Spread the love&nbsp;&nbsp;&nbsp;&nbsp;&nbsp;&nbsp;With six days gone in the ongoing FavCode54 application into different programs, it pleases the tech company to announce that applications close 11:59pm today Saturday 16th June, 2018. All entries received will subsequently<a class=\"moretag\" href=\"https://blog.favcode54.org/2018/06/guess-how-many-hours-left-to-close-of-favcode54-applications/\"> Read more&hellip;</a></p></div></div></div><div class=\"col-md-4\"><div class=\"card card-blog\"><div class=\"card-image\"> <a href=\"https://blog.favcode54.org/2018/05/over-4000-new-favcode54-students-set-to-begin-classes/\" title=\"Over 4000 New FavCode54 Students Set To Begin Classes\"> <img width=\"360\" height=\"240\" src=\"https://blog.favcode54.org/wp-content/uploads/2018/05/FavCode54-360x240.jpg\" class=\"attachment-hestia-blog size-hestia-blog wp-post-image\" alt=\"\" /> </a></div><div class=\"content\"><h6 class=\"category text-info\"><a href=\"https://blog.favcode54.org/category/news-updates/\" title=\"View all posts in News &amp; updates\" >News &amp; updates</a></h6><h4 class=\"card-title\"> <a class=\"blog-item-title-link\" href=\"https://blog.favcode54.org/2018/05/over-4000-new-favcode54-students-set-to-begin-classes/\" title=\"Over 4000 New FavCode54 Students Set To Begin Classes\" rel=\"bookmark\"> Over 4000 New FavCode54 Students Set To Begin Classes </a></h4><p class=\"card-description\">Spread the love109&nbsp;&nbsp;&nbsp;&nbsp;&nbsp;109SharesWith thousands of applications received just a few months ago from interested applicants scattered across different countries of the world for entry into the FavCode54 Program, admission letters were recently forwarded to all<a class=\"moretag\" href=\"https://blog.favcode54.org/2018/05/over-4000-new-favcode54-students-set-to-begin-classes/\"> Read more&hellip;</a></p></div></div></div><div class=\"col-md-4\"><div class=\"card card-blog\"><div class=\"card-image\"> <a href=\"https://blog.favcode54.org/2018/04/applications-for-ibm-watson-class-ii-extended/\" title=\"Applications For IBM Watson Class II Extended\"> <img width=\"360\" height=\"240\" src=\"https://blog.favcode54.org/wp-content/uploads/2018/04/2ND-ARTIFICIALINTELLIGENCECLASS-ON-IBMWATSON-2-4-360x240.jpg\" class=\"attachment-hestia-blog size-hestia-blog wp-post-image\" alt=\"\" /> </a></div><div class=\"content\"><h6 class=\"category text-info\"><a href=\"https://blog.favcode54.org/category/news-updates/\" title=\"View all posts in News &amp; updates\" >News &amp; updates</a></h6><h4 class=\"card-title\"> <a class=\"blog-item-title-link\" href=\"https://blog.favcode54.org/2018/04/applications-for-ibm-watson-class-ii-extended/\" title=\"Applications For IBM Watson Class II Extended\" rel=\"bookmark\"> Applications For IBM Watson Class II Extended </a></h4><p class=\"card-description\">Spread the love91&nbsp;&nbsp;&nbsp;&nbsp;&nbsp;91SharesWe have received a good number of submissions for the 2nd Class of Artificial Intelligence on IBM Watson since the 20th of April with the opening coming to an end tomorrow Friday 27th<a class=\"moretag\" href=\"https://blog.favcode54.org/2018/04/applications-for-ibm-watson-class-ii-extended/\"> Read more&hellip;</a></p></div></div></div></div></div></div></div></div><div class=\"footer-wrapper\"><footer class=\"footer footer-black footer-big\"><div class=\"container\"><div class=\"content\"><div class=\"row\"><div class=\"col-md-4\"><div id=\"custom_html-4\" class=\"widget_text widget widget_custom_html\"><div class=\"textwidget custom-html-widget\"><script async src=\"//pagead2.googlesyndication.com/pagead/js/adsbygoogle.js\"></script>  <ins class=\"adsbygoogle\"\\n style=\"display:block\"\\n data-ad-client=\"ca-pub-9943631061556362\"\\n data-ad-slot=\"1772483309\"\\n data-ad-format=\"auto\"></ins> <script>(adsbygoogle = window.adsbygoogle || []).push({});</script></div></div></div><div class=\"col-md-4\"><div id=\"custom_html-5\" class=\"widget_text widget widget_custom_html\"><div class=\"textwidget custom-html-widget\"><script async src=\"//pagead2.googlesyndication.com/pagead/js/adsbygoogle.js\"></script>  <ins class=\"adsbygoogle\"\\n style=\"display:block\"\\n data-ad-client=\"ca-pub-9943631061556362\"\\n data-ad-slot=\"1772483309\"\\n data-ad-format=\"auto\"></ins> <script>(adsbygoogle = window.adsbygoogle || []).push({});</script></div></div></div><div class=\"col-md-4\"><div id=\"custom_html-6\" class=\"widget_text widget widget_custom_html\"><div class=\"textwidget custom-html-widget\"><script async src=\"//pagead2.googlesyndication.com/pagead/js/adsbygoogle.js\"></script>  <ins class=\"adsbygoogle\"\\n style=\"display:block\"\\n data-ad-client=\"ca-pub-9943631061556362\"\\n data-ad-slot=\"1772483309\"\\n data-ad-format=\"auto\"></ins> <script>(adsbygoogle = window.adsbygoogle || []).push({});</script></div></div></div></div></div><hr/><div class=\"hestia-bottom-footer-content\"><div class=\"hestia-bottom-footer-content\"><ul id=\"menu-primary-menu-1\" class=\"footer-menu pull-left\"><li class=\"menu-item menu-item-type-custom menu-item-object-custom menu-item-home menu-item-38\"><a href=\"https://blog.favcode54.org/\"><i class=\"_mi _before dashicons dashicons-admin-home\" aria-hidden=\"true\"></i><span>HOME</span></a></li><li class=\"menu-item menu-item-type-post_type menu-item-object-page menu-item-279\"><a href=\"https://blog.favcode54.org/ai-lab-students/\">Ai Lab students</a></li><li class=\"zerif-cus-btn menu-item menu-item-type-custom menu-item-object-custom menu-item-134\"><a href=\"https://apply.favcode54.org/\"><i class=\"_mi _before dashicons dashicons-migrate\" aria-hidden=\"true\"></i><span>Apply Now</span></a></li></ul><div class=\"copyright pull-right\"> <a href=\"https://themeisle.com/themes/hestia/\" target=\"_blank\" rel=\"nofollow\">Hestia</a> | Powered by <a href=\"http://wordpress.org\" rel=\"nofollow\">WordPress</a></div></div></div></div></footer><div style=\"display: none\"></div></div></div> <script async src=\"//pagead2.googlesyndication.com/pagead/js/adsbygoogle.js\"></script>  <ins class=\"adsbygoogle\"\\n style=\"display:block\"\\n data-ad-client=\"ca-pub-9943631061556362\"\\n data-ad-slot=\"1772483309\"\\n data-ad-format=\"auto\"></ins> <script>(adsbygoogle = window.adsbygoogle || []).push({});</script> <script type=\\'text/javascript\\'>jQuery(document).ready(function($){var sticky_widget_mode=0;var sticky_widget_margin=15;var document_width=$(document).width();var ai_debug=typeof ai_debugging!==\"undefined\";$(\".ai-sticky-widget\").each(function(){var widget=$(this);var widget_width=widget.width();if(ai_debug)console.log(\"WIDGET:\",widget.width(),widget.prop(\"tagName\"),widget.attr(\"id\"));var already_sticky_js=false;var sidebar=widget.parent();while(sidebar.prop(\"tagName\")!=\\n\"BODY\"){if(sidebar.hasClass(\"theiaStickySidebar\")){already_sticky_js=true;break}if(ai_debug)console.log(\"SIDEBAR:\",sidebar.width(),sidebar.prop(\"tagName\"),sidebar.attr(\"id\"));var parent_element=sidebar.parent();var parent_element_width=parent_element.width();if(parent_element_width>widget_width*1.2||parent_element_width>document_width/2)break;sidebar=parent_element}if(already_sticky_js){if(ai_debug)console.log(\"JS STICKY SIDEBAR ALREADY SET\");return}var new_sidebar_top=sidebar.offset().top-widget.offset().top+\\nsticky_widget_margin;if(ai_debug)console.log(\"NEW SIDEBAR TOP:\",new_sidebar_top);if(sticky_widget_mode==0)if(sidebar.css(\"position\")!=\"sticky\"||isNaN(parseInt(sidebar.css(\"top\")))||sidebar.css(\"top\")<new_sidebar_top){sidebar.css(\"position\",\"sticky\").css(\"top\",new_sidebar_top);if(ai_debug)console.log(\"CSS STICKY SIDEBAR, TOP:\",new_sidebar_top)}else{if(ai_debug)console.log(\"CSS STICKY SIDEBAR ALREADY SET\")}else{sidebar.theiaStickySidebar({additionalMarginTop:new_sidebar_top,sidebarBehavior:\"stick-to-top\"});\\nif(ai_debug)console.log(\"JS STICKY SIDEBAR, TOP:\",new_sidebar_top)}})});</script> <script>var advanced_ads_ga_UID = false;\\n\\t\\tadvanced_ads_check_adblocker=function(t){function e(t){(window.requestAnimationFrame||window.mozRequestAnimationFrame||window.webkitRequestAnimationFrame||function(t){return setTimeout(t,16)}).call(window,t)}var n=[],a=null;return e(function(){var t=document.createElement(\"div\");t.innerHTML=\"&nbsp;\",t.setAttribute(\"class\",\"ad_unit ad-unit text-ad text_ad pub_300x250\"),t.setAttribute(\"style\",\"width: 1px !important; height: 1px !important; position: absolute !important; left: 0px !important; top: 0px !important; overflow: hidden !important;\"),document.body.appendChild(t),e(function(){var e=window.getComputedStyle&&window.getComputedStyle(t),o=e&&e.getPropertyValue(\"-moz-binding\");a=e&&\"none\"===e.getPropertyValue(\"display\")||\"string\"==typeof o&&-1!==o.indexOf(\"about:\");for(var i=0;i<n.length;i++)n[i](a);n=[]})}),function(t){if(null===a)return void n.push(t);t(a)}}(),function(){var t=function(t,e){this.name=t,this.UID=e,this.analyticsObject=null;var n=this,a={hitType:\"event\",eventCategory:\"Advanced Ads\",eventAction:\"AdBlock\",eventLabel:\"Yes\",nonInteraction:!0,transport:\"beacon\"};this.analyticsObject=\"string\"==typeof GoogleAnalyticsObject&&\"function\"==typeof window[GoogleAnalyticsObject]&&window[GoogleAnalyticsObject],!1===this.analyticsObject?(!function(t,e,n,a,o,i,d){t.GoogleAnalyticsObject=o,t[o]=t[o]||function(){(t[o].q=t[o].q||[]).push(arguments)},t[o].l=1*new Date,i=e.createElement(n),d=e.getElementsByTagName(n)[0],i.async=1,i.src=\"https://www.google-analytics.com/analytics.js\",d.parentNode.insertBefore(i,d)}(window,document,\"script\",0,\"_advads_ga\"),_advads_ga(\"create\",n.UID,\"auto\",this.name),_advads_ga(n.name+\".send\",a)):(window.console&&window.console.log(\"Advanced Ads Analytics >> using other\\'s variable named `\"+GoogleAnalyticsObject+\"`\"),window[GoogleAnalyticsObject](\"create\",n.UID,\"auto\",this.name),window[GoogleAnalyticsObject](n.name+\".send\",a))};advanced_ads_check_adblocker(function(e){e&&\"string\"==typeof advanced_ads_ga_UID&&advanced_ads_ga_UID&&new t(\"advadsTracker\",advanced_ads_ga_UID)})}();</script> <div id=\"watsonconv-floating-box\"></div> <button class=\"hestia-scroll-to-top\"> <i class=\"fa fa-angle-double-up\" aria-hidden=\"true\"></i> </button><div id=\"fb-root\"></div> <script type=\\'text/javascript\\'>var watsonconvSettings = {\"delay\":\"0\",\"minimized\":\"no\",\"position\":[\"bottom\",\"right\"],\"title\":\"Tolu - FavCode\\\\u2019s Ai\",\"clearText\":\"Clear Messages\",\"messagePrompt\":\"Type a Message\",\"fullScreen\":{\"mode\":\"mobile\",\"max_width\":\"640px\",\"query\":\"@media screen and (max-width:640px) { %s }\"},\"showSendBtn\":\"yes\",\"fabConfig\":{\"iconPos\":\"left\",\"text\":\"Chat Now \\\\ud83e\\\\udd16\"},\"callConfig\":{\"useTwilio\":\"no\",\"configured\":false,\"recipient\":\"9182300201\",\"callTooltip\":\"Talk to a Live Agent\",\"callButton\":\"Start Toll-Free Call Here\",\"callingText\":\"Calling Agent...\"}};</script> <script type=\\'text/javascript\\'>var countVars = {\"disqusShortname\":\"favcode54\"};</script> <script type=\\'text/javascript\\'>var embedVars = {\"disqusConfig\":{\"integration\":\"wordpress 3.0.15\"},\"disqusIdentifier\":\"423 https:\\\\/\\\\/blog.favcode54.org\\\\/?p=423\",\"disqusShortname\":\"favcode54\",\"disqusTitle\":\"22 Become FavCode54 Student Ambassadors\",\"disqusUrl\":\"https:\\\\/\\\\/blog.favcode54.org\\\\/2018\\\\/07\\\\/22-become-favcode54-student-ambassadors\\\\/\",\"postId\":\"423\"};</script> <script type=\\'text/javascript\\'>var requestpost = {\"ajaxurl\":\"https:\\\\/\\\\/blog.favcode54.org\\\\/wp-admin\\\\/admin-ajax.php\"};\\nvar hestiaViewcart = {\"view_cart_label\":\"View cart\",\"view_cart_link\":\"\"};</script> <script type=\"text/javascript\" defer src=\"https://blog.favcode54.org/wp-content/cache/autoptimize/js/autoptimize_58aa37a453aa4b53041727b1f03d5fdf.js\"></script></body></html>'"
      ]
     },
     "execution_count": 8,
     "metadata": {},
     "output_type": "execute_result"
    }
   ],
   "source": [
    "url = \"https://blog.favcode54.org/2018/07/22-become-favcode54-student-ambassadors/\"\n",
    "scrapped_data = requests.get(url)\n",
    "fetched_data = scrapped_data.content\n",
    "fetched_data"
   ]
  },
  {
   "cell_type": "code",
   "execution_count": 13,
   "metadata": {},
   "outputs": [
    {
     "data": {
      "text/plain": [
       "<!DOCTYPE html>\n",
       "<html lang=\"en-US\" prefix=\"og: http://ogp.me/ns#\"><head><meta charset=\"utf-8\"/><meta content=\"width=device-width, initial-scale=1\" name=\"viewport\"/><link href=\"http://gmpg.org/xfn/11\" rel=\"profile\"/><link href=\"https://blog.favcode54.org/xmlrpc.php\" rel=\"pingback\"/><link href=\"https://blog.favcode54.org/wp-content/cache/autoptimize/css/autoptimize_5aa1efe852b05ed55aa922351cd48541.css\" media=\"all\" rel=\"stylesheet\" type=\"text/css\"/><title>22 Become FavCode54 Student Ambassadors - Blog | FavCode54</title> <script>function theChampLoadEvent(e){var t=window.onload;if(typeof window.onload!=\"function\"){window.onload=e}else{window.onload=function(){t();e()}}}</script> <script type=\"text/javascript\">var theChampCloseIconPath = 'https://blog.favcode54.org/wp-content/plugins/super-socializer/images/close.png';var heateorSsSDKBlockedMsg = `Your browser is blocking some features of this website. Please follow the instructions at <a href=\\'http://support.heateor.com/browser-blocking-social-features/\\' target=\\'_blank\\' style=\\'color:#33a9d8\\'>http://support.heateor.com/browser-blocking-social-features/</a> to unblock these.`</script> <script>var theChampSiteUrl = 'https://blog.favcode54.org', theChampVerified = 0, theChampEmailPopup = 0;</script> <script>var theChampFBKey = '', theChampFBLang = 'en_US', theChampFbLikeMycred = 0, theChampSsga = 0, theChampCommentNotification = 0, theChampHeateorFcmRecentComments = 0, theChampFbIosLogin = 0;</script> <script>var theChampFBCommentUrl = 'https://blog.favcode54.org/2018/07/22-become-favcode54-student-ambassadors/'; var theChampFBCommentColor = ''; var theChampFBCommentNumPosts = ''; var theChampFBCommentWidth = '100%'; var theChampFBCommentOrderby = ''; var theChampCommentingTabs = \"wordpress,facebook,googleplus,disqus\", theChampGpCommentsUrl = 'https://blog.favcode54.org/2018/07/22-become-favcode54-student-ambassadors/', theChampDisqusShortname = '', theChampScEnabledTabs = 'wordpress,fb', theChampScLabel = 'Leave a reply', theChampScTabLabels = {\"wordpress\":\"Default Comments (0)\",\"fb\":\"Facebook Comments (<fb:comments-count href=https:\\/\\/blog.favcode54.org\\/2018\\/07\\/22-become-favcode54-student-ambassadors\\/><\\/fb:comments-count>)\",\"googleplus\":\"G+ Comments\",\"disqus\":\"Disqus Comments\"}, theChampGpCommentsWidth = 0, theChampCommentingId = 'respond'</script> <script>var theChampSharingAjaxUrl = 'https://blog.favcode54.org/wp-admin/admin-ajax.php', heateorSsUrlCountFetched = [], heateorSsSharesText = 'Shares', heateorSsShareText = 'Share', theChampPluginIconPath = 'https://blog.favcode54.org/wp-content/plugins/super-socializer/images/logo.png', theChampHorizontalSharingCountEnable = 1, theChampVerticalSharingCountEnable = 0, theChampSharingOffset = -10, theChampCounterOffset = -10, theChampMobileStickySharingEnabled = 0, heateorSsCopyLinkMessage = \"Link copied.\";\n",
       "\t\tvar heateorSsHorSharingShortUrl = \"https://blog.favcode54.org/2018/07/22-become-favcode54-student-ambassadors/\";var heateorSsVerticalSharingShortUrl = \"https://blog.favcode54.org/2018/07/22-become-favcode54-student-ambassadors/\";</script> <meta content=\"FavCode54 has thrived on the support it enjoys from successful partnerships― the exact reason that informed our call for young people who are willing to curate the Tech Company’s vision as Student Ambassadors in campuses of their tertiary institutions through well-planned and properly supervised tech events.\" name=\"description\"/><link href=\"https://blog.favcode54.org/2018/07/22-become-favcode54-student-ambassadors/\" rel=\"canonical\"/><meta content=\"en_US\" property=\"og:locale\"/><meta content=\"article\" property=\"og:type\"/><meta content=\"22 Become FavCode54 Student Ambassadors - Blog | FavCode54\" property=\"og:title\"/><meta content=\"FavCode54 has thrived on the support it enjoys from successful partnerships― the exact reason that informed our call for young people who are willing to curate the Tech Company’s vision as Student Ambassadors in campuses of their tertiary institutions through well-planned and properly supervised tech events.\" property=\"og:description\"/><meta content=\"https://blog.favcode54.org/2018/07/22-become-favcode54-student-ambassadors/\" property=\"og:url\"/><meta content=\"Blog | FavCode54\" property=\"og:site_name\"/><meta content=\"http://facebook.com/favcode54\" property=\"article:publisher\"/><meta content=\"Ambassadors\" property=\"article:tag\"/><meta content=\"FavCode54\" property=\"article:tag\"/><meta content=\"SAP\" property=\"article:tag\"/><meta content=\"Student Ambassadors\" property=\"article:tag\"/><meta content=\"News &amp; updates\" property=\"article:section\"/><meta content=\"2018-07-12T15:32:10+00:00\" property=\"article:published_time\"/><meta content=\"2018-07-12T15:37:30+00:00\" property=\"article:modified_time\"/><meta content=\"2018-07-12T15:37:30+00:00\" property=\"og:updated_time\"/><meta content=\"https://blog.favcode54.org/wp-content/uploads/2018/07/FAVCODE54-SAP.jpg\" property=\"og:image\"/><meta content=\"https://blog.favcode54.org/wp-content/uploads/2018/07/FAVCODE54-SAP.jpg\" property=\"og:image:secure_url\"/><meta content=\"1920\" property=\"og:image:width\"/><meta content=\"1080\" property=\"og:image:height\"/><meta content=\"summary_large_image\" name=\"twitter:card\"/><meta content=\"FavCode54 has thrived on the support it enjoys from successful partnerships― the exact reason that informed our call for young people who are willing to curate the Tech Company’s vision as Student Ambassadors in campuses of their tertiary institutions through well-planned and properly supervised tech events.\" name=\"twitter:description\"/><meta content=\"22 Become FavCode54 Student Ambassadors - Blog | FavCode54\" name=\"twitter:title\"/><meta content=\"@favCode54\" name=\"twitter:site\"/><meta content=\"https://blog.favcode54.org/wp-content/uploads/2018/07/FAVCODE54-SAP.jpg\" name=\"twitter:image\"/><meta content=\"@favCode54\" name=\"twitter:creator\"/> <script type=\"application/ld+json\">{\"@context\":\"https:\\/\\/schema.org\",\"@type\":\"Organization\",\"url\":\"https:\\/\\/blog.favcode54.org\\/\",\"sameAs\":[\"http:\\/\\/facebook.com\\/favcode54\",\"http:\\/\\/instagram.com\\/favcode54\",\"https:\\/\\/www.linkedin.com\\/company\\/favcode54\\/\",\"https:\\/\\/twitter.com\\/favCode54\"],\"@id\":\"https:\\/\\/blog.favcode54.org\\/#organization\",\"name\":\"FavCode54\",\"logo\":\"https:\\/\\/favcode54.org\\/blog\\/wp-content\\/uploads\\/2018\\/03\\/favcode54-logo-white2.png\"}</script> <link href=\"https://blog.favcode54.org/2018/07/22-become-favcode54-student-ambassadors/amp/\" rel=\"amphtml\"/><link href=\"//maxcdn.bootstrapcdn.com\" rel=\"dns-prefetch\"/><link href=\"//fonts.googleapis.com\" rel=\"dns-prefetch\"/><link href=\"//s.w.org\" rel=\"dns-prefetch\"/><link href=\"https://blog.favcode54.org/feed/\" rel=\"alternate\" title=\"Blog | FavCode54 » Feed\" type=\"application/rss+xml\"/><link href=\"https://blog.favcode54.org/comments/feed/\" rel=\"alternate\" title=\"Blog | FavCode54 » Comments Feed\" type=\"application/rss+xml\"/><link href=\"https://blog.favcode54.org/2018/07/22-become-favcode54-student-ambassadors/feed/\" rel=\"alternate\" title=\"Blog | FavCode54 » 22 Become FavCode54 Student Ambassadors Comments Feed\" type=\"application/rss+xml\"/> <script type=\"text/javascript\">window._wpemojiSettings = {\"baseUrl\":\"https:\\/\\/s.w.org\\/images\\/core\\/emoji\\/2.4\\/72x72\\/\",\"ext\":\".png\",\"svgUrl\":\"https:\\/\\/s.w.org\\/images\\/core\\/emoji\\/2.4\\/svg\\/\",\"svgExt\":\".svg\",\"source\":{\"concatemoji\":\"https:\\/\\/blog.favcode54.org\\/wp-includes\\/js\\/wp-emoji-release.min.js?ver=4.9.7\"}};\n",
       "\t\t\t!function(a,b,c){function d(a,b){var c=String.fromCharCode;l.clearRect(0,0,k.width,k.height),l.fillText(c.apply(this,a),0,0);var d=k.toDataURL();l.clearRect(0,0,k.width,k.height),l.fillText(c.apply(this,b),0,0);var e=k.toDataURL();return d===e}function e(a){var b;if(!l||!l.fillText)return!1;switch(l.textBaseline=\"top\",l.font=\"600 32px Arial\",a){case\"flag\":return!(b=d([55356,56826,55356,56819],[55356,56826,8203,55356,56819]))&&(b=d([55356,57332,56128,56423,56128,56418,56128,56421,56128,56430,56128,56423,56128,56447],[55356,57332,8203,56128,56423,8203,56128,56418,8203,56128,56421,8203,56128,56430,8203,56128,56423,8203,56128,56447]),!b);case\"emoji\":return b=d([55357,56692,8205,9792,65039],[55357,56692,8203,9792,65039]),!b}return!1}function f(a){var c=b.createElement(\"script\");c.src=a,c.defer=c.type=\"text/javascript\",b.getElementsByTagName(\"head\")[0].appendChild(c)}var g,h,i,j,k=b.createElement(\"canvas\"),l=k.getContext&&k.getContext(\"2d\");for(j=Array(\"flag\",\"emoji\"),c.supports={everything:!0,everythingExceptFlag:!0},i=0;i<j.length;i++)c.supports[j[i]]=e(j[i]),c.supports.everything=c.supports.everything&&c.supports[j[i]],\"flag\"!==j[i]&&(c.supports.everythingExceptFlag=c.supports.everythingExceptFlag&&c.supports[j[i]]);c.supports.everythingExceptFlag=c.supports.everythingExceptFlag&&!c.supports.flag,c.DOMReady=!1,c.readyCallback=function(){c.DOMReady=!0},c.supports.everything||(h=function(){c.readyCallback()},b.addEventListener?(b.addEventListener(\"DOMContentLoaded\",h,!1),a.addEventListener(\"load\",h,!1)):(a.attachEvent(\"onload\",h),b.attachEvent(\"onreadystatechange\",function(){\"complete\"===b.readyState&&c.readyCallback()})),g=c.source||{},g.concatemoji?f(g.concatemoji):g.wpemoji&&g.twemoji&&(f(g.twemoji),f(g.wpemoji)))}(window,document,window._wpemojiSettings);</script> <!--noptimize--><script>\n",
       "\t\t\t\t\tadvanced_ads_ready=function(){var fns=[],listener,doc=typeof document===\"object\"&&document,hack=doc&&doc.documentElement.doScroll,domContentLoaded=\"DOMContentLoaded\",loaded=doc&&(hack?/^loaded|^c/:/^loaded|^i|^c/).test(doc.readyState);if(!loaded&&doc){listener=function(){doc.removeEventListener(domContentLoaded,listener);window.removeEventListener(\"load\",listener);loaded=1;while(listener=fns.shift())listener()};doc.addEventListener(domContentLoaded,listener);window.addEventListener(\"load\",listener)}return function(fn){loaded?setTimeout(fn,0):fns.push(fn)}}();\n",
       "\t\t\t</script><!--/noptimize--><link href=\"https://blog.favcode54.org/wp-includes/css/dashicons.min.css?ver=4.9.7\" id=\"dashicons-css\" media=\"all\" rel=\"stylesheet\" type=\"text/css\"/><link href=\"https://maxcdn.bootstrapcdn.com/font-awesome/4.7.0/css/font-awesome.min.css?ver=2.4.6\" id=\"obfx-module-pub-css-menu-icons-0-css\" media=\"all\" rel=\"stylesheet\" type=\"text/css\"/><link href=\"https://fonts.googleapis.com/css?family=Roboto%3A300%2C400%2C500%2C700%7CRoboto+Slab%3A400%2C700&amp;subset=latin%2Clatin-ext&amp;ver=1.1.71\" id=\"hestia_fonts-css\" media=\"all\" rel=\"stylesheet\" type=\"text/css\"/><link href=\"//fonts.googleapis.com/css?family=Droid+Sans%3A300%2C400%2C500%2C700&amp;subset=latin&amp;ver=4.9.7\" id=\"hestia-google-font-droid-sans-css\" media=\"all\" rel=\"stylesheet\" type=\"text/css\"/> <script src=\"https://blog.favcode54.org/wp-includes/js/jquery/jquery.js?ver=1.12.4\" type=\"text/javascript\"></script> <script type=\"text/javascript\">var public_ajax = {\"ajax_url\":\"https:\\/\\/blog.favcode54.org\\/wp-admin\\/admin-ajax.php\"};\n",
       "var public_ajax = {\"ajax_url\":\"https:\\/\\/blog.favcode54.org\\/wp-admin\\/admin-ajax.php\"};</script> <link href=\"https://blog.favcode54.org/wp-json/\" rel=\"https://api.w.org/\"/><link href=\"https://blog.favcode54.org/xmlrpc.php?rsd\" rel=\"EditURI\" title=\"RSD\" type=\"application/rsd+xml\"/><link href=\"https://blog.favcode54.org/wp-includes/wlwmanifest.xml\" rel=\"wlwmanifest\" type=\"application/wlwmanifest+xml\"/><meta content=\"WordPress 4.9.7\" name=\"generator\"/><link href=\"https://blog.favcode54.org/?p=423\" rel=\"shortlink\"/><link href=\"https://blog.favcode54.org/wp-json/oembed/1.0/embed?url=https%3A%2F%2Fblog.favcode54.org%2F2018%2F07%2F22-become-favcode54-student-ambassadors%2F\" rel=\"alternate\" type=\"application/json+oembed\"/><link href=\"https://blog.favcode54.org/wp-json/oembed/1.0/embed?url=https%3A%2F%2Fblog.favcode54.org%2F2018%2F07%2F22-become-favcode54-student-ambassadors%2F&amp;format=xml\" rel=\"alternate\" type=\"text/xml+oembed\"/><link href=\"https://blog.favcode54.org/wp-content/uploads/2018/03/favCodeLogs-150x150.png\" rel=\"icon\" sizes=\"32x32\"/><link href=\"https://blog.favcode54.org/wp-content/uploads/2018/03/favCodeLogs.png\" rel=\"icon\" sizes=\"192x192\"/><link href=\"https://blog.favcode54.org/wp-content/uploads/2018/03/favCodeLogs.png\" rel=\"apple-touch-icon-precomposed\"/><meta content=\"https://blog.favcode54.org/wp-content/uploads/2018/03/favCodeLogs.png\" name=\"msapplication-TileImage\"/></head><body class=\"post-template-default single single-post postid-423 single-format-standard custom-background wp-custom-logo blog-post\"> <script async=\"\" src=\"//pagead2.googlesyndication.com/pagead/js/adsbygoogle.js\"></script> <script>(adsbygoogle = window.adsbygoogle || []).push({\n",
       "          google_ad_client: \"ca-pub-9943631061556362\",\n",
       "          enable_page_level_ads: true\n",
       "     });</script> <div class=\"wrapper post-423 post type-post status-publish format-standard has-post-thumbnail hentry category-news-updates tag-ambassadors tag-favcode54 tag-sap tag-student-ambassadors\"><header class=\"header \"><nav class=\"navbar navbar-default navbar-fixed-top hestia_left navbar-not-transparent\"><div class=\"container\"><div class=\"navbar-header\"><div class=\"title-logo-wrapper\"> <a class=\"navbar-brand\" href=\"https://blog.favcode54.org/\" title=\"Blog | FavCode54\"><img alt=\"Blog | FavCode54\" src=\"https://blog.favcode54.org/wp-content/uploads/2018/03/favcodelogo.png\"/></a></div></div><div class=\"collapse navbar-collapse\" id=\"main-navigation\"><ul class=\"nav navbar-nav navbar-right\" id=\"menu-primary-menu\"><li class=\"menu-item menu-item-type-custom menu-item-object-custom menu-item-home menu-item-38\" id=\"menu-item-38\"><a href=\"https://blog.favcode54.org/\" title=\"HOME\"><i aria-hidden=\"true\" class=\"_mi _before dashicons dashicons-admin-home\"></i><span>HOME</span></a></li><li class=\"menu-item menu-item-type-post_type menu-item-object-page menu-item-279\" id=\"menu-item-279\"><a href=\"https://blog.favcode54.org/ai-lab-students/\" title=\"Ai Lab students\">Ai Lab students</a></li><li class=\"zerif-cus-btn menu-item menu-item-type-custom menu-item-object-custom menu-item-134\" id=\"menu-item-134\"><a href=\"https://apply.favcode54.org/\" title=\"Apply Now\"><i aria-hidden=\"true\" class=\"_mi _before dashicons dashicons-migrate\"></i><span>Apply Now</span></a></li><li class=\"hestia-search-in-menu\"><form action=\"https://blog.favcode54.org/\" class=\"hestia-search-in-nav\" method=\"get\" role=\"search\"><div class=\"hestia-nav-search\"> <span class=\"screen-reader-text\">Search for:</span> <span class=\"search-field-wrapper\"> <input class=\"search-field\" name=\"s\" placeholder=\"Search …\" type=\"search\" value=\"\"/> </span> <span class=\"search-submit-wrapper\"> <button class=\"search-submit hestia-search-submit\" type=\"submit\"><i class=\"fa fa-search\"></i></button> </span></div></form><div class=\"hestia-toggle-search\"> <i class=\"fa fa-search\"></i></div></li></ul></div> <button class=\"navbar-toggle\" data-target=\"#main-navigation\" data-toggle=\"collapse\" type=\"button\"> <span class=\"icon-bar\"></span> <span class=\"icon-bar\"></span> <span class=\"icon-bar\"></span> <span class=\"sr-only\">Toggle Navigation</span> </button></div></nav><div class=\" page-header header-small\" data-parallax=\"active\" id=\"primary\"><div class=\"header-filter\" style=\"background-image: url(https://blog.favcode54.org/wp-content/uploads/2018/07/FAVCODE54-SAP.jpg);\"></div></div></header><div class=\"main no-content\"><div class=\"blog-post blog-post-wrapper\"><div class=\"container\"> <script async=\"\" src=\"//pagead2.googlesyndication.com/pagead/js/adsbygoogle.js\"></script> <script>(adsbygoogle = window.adsbygoogle || []).push({\n",
       "          google_ad_client: \"ca-pub-9943631061556362\",\n",
       "          enable_page_level_ads: true\n",
       "     });</script> <script async=\"\" src=\"//pagead2.googlesyndication.com/pagead/js/adsbygoogle.js\"></script> <ins class=\"adsbygoogle\" data-ad-client=\"ca-pub-9943631061556362\" data-ad-format=\"auto\" data-ad-slot=\"1772483309\" style=\"display:block\"></ins> <script>(adsbygoogle = window.adsbygoogle || []).push({});</script> <div class=\"row\"><div class=\" col-md-8 single-post-wrap\"><article class=\"section section-text\" id=\"post-423\"><h1 class=\"hestia-title title-in-content\">22 Become FavCode54 Student Ambassadors</h1><p class=\"author meta-in-content\"> Published by <a class=\"vcard author\" href=\"https://blog.favcode54.org/author/swiftlyricsgmail-com/\"><strong class=\"fn\">Henry Okoli</strong></a> on <time class=\"date updated published\" datetime=\"2018-07-12T15:32:10+00:00\">July 12, 2018</time></p><div style=\"clear: both\"></div><div class=\"the_champ_sharing_container the_champ_horizontal_sharing\" super-socializer-data-href=\"https://blog.favcode54.org/2018/07/22-become-favcode54-student-ambassadors/\" super-socializer-no-counts=\"1\"><div class=\"the_champ_sharing_title\" style=\"font-weight:bold\">Spread the love</div><ul class=\"the_champ_sharing_ul\"><li class=\"theChampSharingRound\"><ss class=\"the_champ_square_count the_champ_facebook_count\" style=\"visibility:visible;display:block;\">142</ss><i alt=\"Facebook\" class=\"theChampSharing theChampFacebookBackground\" onclick='theChampPopup(\"https://www.facebook.com/sharer/sharer.php?u=https%3A%2F%2Fblog.favcode54.org%2F2018%2F07%2F22-become-favcode54-student-ambassadors%2F\")' style=\"width:100px;height:41px;\" title=\"Facebook\"><ss class=\"theChampSharingSvg theChampFacebookSvg\" style=\"display:block;display:block;\"></ss></i></li><li class=\"theChampSharingRound\"><ss class=\"the_champ_square_count the_champ_twitter_count\"> </ss><i alt=\"Twitter\" class=\"theChampSharing theChampTwitterBackground\" onclick='theChampPopup(\"http://twitter.com/intent/tweet?text=22%20Become%20FavCode54%20Student%20Ambassadors&amp;url=https%3A%2F%2Fblog.favcode54.org%2F2018%2F07%2F22-become-favcode54-student-ambassadors%2F\")' style=\"width:100px;height:41px;\" title=\"Twitter\"><ss class=\"theChampSharingSvg theChampTwitterSvg\" style=\"display:block;\"></ss></i></li><li class=\"theChampSharingRound\"><ss class=\"the_champ_square_count the_champ_linkedin_count\"> </ss><i alt=\"Linkedin\" class=\"theChampSharing theChampLinkedinBackground\" onclick='theChampPopup(\"http://www.linkedin.com/shareArticle?mini=true&amp;url=https%3A%2F%2Fblog.favcode54.org%2F2018%2F07%2F22-become-favcode54-student-ambassadors%2F&amp;title=22%20Become%20FavCode54%20Student%20Ambassadors\")' style=\"width:100px;height:41px;\" title=\"Linkedin\"><ss class=\"theChampSharingSvg theChampLinkedinSvg\" style=\"display:block;\"></ss></i></li><li class=\"theChampSharingRound\"><ss class=\"the_champ_square_count the_champ_whatsapp_count\"> </ss><i alt=\"Whatsapp\" class=\"theChampSharing theChampWhatsappBackground\" style=\"width:100px;height:41px;\" title=\"Whatsapp\"><a href=\"whatsapp://send?text=22%20Become%20FavCode54%20Student%20Ambassadors https%3A%2F%2Fblog.favcode54.org%2F2018%2F07%2F22-become-favcode54-student-ambassadors%2F\"><ss class=\"theChampSharingSvg theChampWhatsappSvg\" style=\"display:block\"></ss></a></i></li><li class=\"theChampSharingRound\"><ss class=\"the_champ_square_count\"> </ss><i alt=\"More\" class=\"theChampSharing theChampMoreBackground\" onclick=\"theChampMoreSharingPopup(this, 'https://blog.favcode54.org/2018/07/22-become-favcode54-student-ambassadors/', '22%20Become%20FavCode54%20Student%20Ambassadors', '')\" style=\"width:100px;height:41px;\" title=\"More\"><ss class=\"theChampSharingSvg theChampMoreSvg\" style=\"display:block\"></ss></i></li><li class=\"theChampSharingRound\"><ss class=\"the_champ_square_count\"> </ss><i alt=\"Total Shares\" class=\"theChampSharing theChampTCBackground\" style=\"width:100px;height:41px;margin-left:9px !important;visibility:visible;\" title=\"Total Shares\"><div class=\"theChampTotalShareCount\" style=\"font-size: 25.42px\">142</div><div class=\"theChampTotalShareText\" style=\"font-size: 15.58px\">Shares</div></i></li></ul><div style=\"clear:both\"></div></div><div style=\"clear: both\"></div><p>FavCode54 has thrived on the support it enjoys from successful partnerships― the exact reason that informed our call for young people who are willing to curate the Tech Company’s vision as Student Ambassadors in campuses of their tertiary institutions through well-planned and properly-supervised tech events.</p><p>Promptly responding to our call once again, interested persons sent and we received dozens of applications among which we have shortlisted 22 successful entries after review.</p><p><strong> </strong></p><p><strong>MEET OUR STUDENT AMBASSADORS</strong></p><table width=\"601\"><tbody><tr><td width=\"267\"><strong>Charles Ijeoma Marvis</strong></td><td width=\"335\">Abia State University</td></tr><tr><td width=\"267\"><strong>Akerele Abraham</strong></td><td width=\"335\">Federal University of Technology, Akure</td></tr><tr><td width=\"267\"><strong>Omeh Anthony Ogbonna</strong></td><td width=\"335\">Federal University of Technology, Akure</td></tr><tr><td width=\"267\"><strong>Ebeh Elisha Chidera</strong></td><td width=\"335\">Michael Okpara University Of Agriculture, Umudike</td></tr><tr><td width=\"267\"><strong>Oluwafemi Olasubomi Aramide</strong></td><td width=\"335\">Federal University of Technology, Akure</td></tr><tr><td width=\"267\"><strong>Adelakun Temilade Ruth</strong></td><td width=\"335\">University of Ibadan</td></tr><tr><td width=\"267\"><strong>Hammed Busirah Olaitan</strong></td><td width=\"335\">Obafemi Awolowo University</td></tr><tr><td width=\"267\"><strong>Ademola Olokun</strong></td><td width=\"335\">Ladoke Akintola University of Technology, Ogbomoso</td></tr><tr><td width=\"267\"><strong>Amadi Precious Oluchi</strong></td><td width=\"335\">Cross River University of Technology</td></tr><tr><td width=\"267\"><strong>Obasi Nancy</strong></td><td width=\"335\">Alex-Ekwueme Federal University Ndufu Alike Ikwo</td></tr><tr><td width=\"267\"><strong>Oscar Ikechukwu Ekeyekwu</strong></td><td width=\"335\">University of Calabar</td></tr><tr><td width=\"267\"><strong>Yayah Mohammed Abiola</strong></td><td width=\"335\">Kwara State Polytechnic, Illorin</td></tr><tr><td width=\"267\"><strong>Japhlet Chinonso Nwamu</strong></td><td width=\"335\">University of Benin</td></tr><tr><td width=\"267\"><strong>Afolayan Raphael Oluwaseun</strong></td><td width=\"335\">Lagos City Computer College/ Lagos City polytechnic</td></tr><tr><td width=\"267\"><strong>Bolaji Ayodeji</strong></td><td width=\"335\">Federal University Lokoja, Kogi State</td></tr><tr><td width=\"267\"><strong>Jinanwa Ekeledirichukwu Somtochukwu</strong></td><td width=\"335\">University of Port Harcourt</td></tr><tr><td width=\"267\"><strong>Joyce Marcus</strong></td><td width=\"335\">Benson Idahosa University</td></tr><tr><td width=\"267\"><strong>Omang Collins Obi</strong></td><td width=\"335\">University of Calabar.</td></tr><tr><td width=\"267\"><strong>Onyenanu Princewill Odichinma</strong></td><td width=\"335\">Federal University Of Technology, Owerri</td></tr><tr><td width=\"267\"><strong>Adejumo Elijah Kayode</strong></td><td width=\"335\">University of Port Harcourt</td></tr><tr><td width=\"267\"><strong>Emeka Rhema Chiemenem</strong></td><td width=\"335\">University of Port Harcourt</td></tr><tr><td width=\"267\"><strong>Franklin Obasi</strong></td><td width=\"335\">University of Port Harcourt</td></tr></tbody></table><p> </p><p>We will not hesitate bringing it to public knowledge once again if the need for more Favcode54 Student Ambassadors presents itself. Until then, many Congratulations to all 22 persons who just made it into our Students Ambassador Program (SAP). <strong>#Techvangelists</strong> <strong>#SpreadingTechToTheWorld</strong></p></article><div class=\"section section-blog-info\"><div class=\"row\"><div class=\"col-md-6\"><div class=\"entry-categories\">Categories: <span class=\"label label-primary\"><a href=\"https://blog.favcode54.org/category/news-updates/\">News &amp; updates</a></span></div><div class=\"entry-tags\">Tags: <span class=\"entry-tag\"><a href=\"https://blog.favcode54.org/tag/ambassadors/\" rel=\"tag\">Ambassadors</a></span><span class=\"entry-tag\"><a href=\"https://blog.favcode54.org/tag/favcode54/\" rel=\"tag\">FavCode54</a></span><span class=\"entry-tag\"><a href=\"https://blog.favcode54.org/tag/sap/\" rel=\"tag\">SAP</a></span><span class=\"entry-tag\"><a href=\"https://blog.favcode54.org/tag/student-ambassadors/\" rel=\"tag\">Student Ambassadors</a></span></div></div><div class=\"col-md-6\"><div class=\"entry-social\"> <a class=\"btn btn-just-icon btn-round btn-facebook\" data-original-title=\"Share on Facebook\" href=\"https://www.facebook.com/sharer/sharer.php?u=https://blog.favcode54.org/2018/07/22-become-favcode54-student-ambassadors/\" rel=\"tooltip\" target=\"_blank\"><i class=\"fa fa-facebook\"></i></a> <a class=\"btn btn-just-icon btn-round btn-twitter\" data-original-title=\"Share on Twitter\" href=\"https://twitter.com/home?status=22 Become FavCode54 Student Ambassadors - https://blog.favcode54.org/2018/07/22-become-favcode54-student-ambassadors/\" rel=\"tooltip\" target=\"_blank\"><i class=\"fa fa-twitter\"></i></a> <a class=\"btn btn-just-icon btn-round btn-google\" data-original-title=\" Share on Google+\" href=\"https://plus.google.com/share?url=https://blog.favcode54.org/2018/07/22-become-favcode54-student-ambassadors/\" rel=\"tooltip\" target=\"_blank\"><i class=\"fa fa-google\"></i></a></div></div></div><hr/><div id=\"disqus_thread\"></div></div></div><div class=\"col-md-3 blog-sidebar-wrapper col-md-offset-1\"><aside class=\"blog-sidebar\" id=\"secondary\" role=\"complementary\"><div class=\"widget widget_easy_facebook_page_plugin\" id=\"easy_facebook_page_plugin-3\"><h5>Find us on FB</h5><div id=\"fb-root\"></div> <script>(function(d, s, id) {\n",
       "\t\t\t\t\t  var js, fjs = d.getElementsByTagName(s)[0];\n",
       "\t\t\t\t\t  if (d.getElementById(id)) return;\n",
       "\t\t\t\t\t  js = d.createElement(s); js.id = id;\n",
       "\t\t\t\t\t  js.async=true; \n",
       "\t\t\t\t\t  js.src = \"//connect.facebook.net/en_US/all.js#xfbml=1&appId=395202813876688\";\n",
       "\t\t\t\t\t  fjs.parentNode.insertBefore(js, fjs);\n",
       "\t\t\t\t\t}(document, 'script', 'facebook-jssdk'));</script> <div class=\"efbl-like-box 1\"> <img class=\"efbl-loader\" src=\"https://blog.favcode54.org/wp-content/plugins/easy-facebook-likebox/public/assets/images/loader.gif\"/><div class=\"fb-page\" data-adapt-container-width=\"true\" data-animclass=\"fadeIn \" data-height=\"260\" data-hide-cover=\"false\" data-hide-cta=\"false\" data-href=\"https://www.facebook.com/favcode54\" data-show-facepile=\"true\" data-show-posts=\"false\" data-small-header=\"false\" data-width=\"250\"></div></div></div><div class=\"widget_text widget widget_custom_html\" id=\"custom_html-3\"><div class=\"textwidget custom-html-widget\"><script async=\"\" src=\"//pagead2.googlesyndication.com/pagead/js/adsbygoogle.js\"></script> <ins class=\"adsbygoogle\" data-ad-client=\"ca-pub-9943631061556362\" data-ad-format=\"auto\" data-ad-slot=\"1772483309\" style=\"display:block\"></ins> <script>(adsbygoogle = window.adsbygoogle || []).push({});</script></div></div><div class=\"widget widget_easy_facebook_feed\" id=\"easy_facebook_feed-3\"><h5>Fb News</h5>Error occured while retrieving the facebook feed</div><div class=\"widget widget_tag_cloud\" id=\"tag_cloud-3\"><h5>Tags</h5><div class=\"tagcloud\"><a aria-label=\"africa (1 item)\" class=\"tag-cloud-link tag-link-9 tag-link-position-1\" href=\"https://blog.favcode54.org/tag/africa/\" style=\"font-size: 8pt;\">africa<span class=\"tag-link-count\"> (1)</span></a> <a aria-label=\"Ambassadors (1 item)\" class=\"tag-cloud-link tag-link-21 tag-link-position-2\" href=\"https://blog.favcode54.org/tag/ambassadors/\" style=\"font-size: 8pt;\">Ambassadors<span class=\"tag-link-count\"> (1)</span></a> <a aria-label=\"application (1 item)\" class=\"tag-cloud-link tag-link-15 tag-link-position-3\" href=\"https://blog.favcode54.org/tag/application/\" style=\"font-size: 8pt;\">application<span class=\"tag-link-count\"> (1)</span></a> <a aria-label=\"apply (1 item)\" class=\"tag-cloud-link tag-link-14 tag-link-position-4\" href=\"https://blog.favcode54.org/tag/apply/\" style=\"font-size: 8pt;\">apply<span class=\"tag-link-count\"> (1)</span></a> <a aria-label=\"code (1 item)\" class=\"tag-cloud-link tag-link-8 tag-link-position-5\" href=\"https://blog.favcode54.org/tag/code/\" style=\"font-size: 8pt;\">code<span class=\"tag-link-count\"> (1)</span></a> <a aria-label=\"codewithfavour (2 items)\" class=\"tag-cloud-link tag-link-11 tag-link-position-6\" href=\"https://blog.favcode54.org/tag/codewithfavour/\" style=\"font-size: 22pt;\">codewithfavour<span class=\"tag-link-count\"> (2)</span></a> <a aria-label=\"FavCode54 (1 item)\" class=\"tag-cloud-link tag-link-23 tag-link-position-7\" href=\"https://blog.favcode54.org/tag/favcode54/\" style=\"font-size: 8pt;\">FavCode54<span class=\"tag-link-count\"> (1)</span></a> <a aria-label=\"favour (1 item)\" class=\"tag-cloud-link tag-link-6 tag-link-position-8\" href=\"https://blog.favcode54.org/tag/favour/\" style=\"font-size: 8pt;\">favour<span class=\"tag-link-count\"> (1)</span></a> <a aria-label=\"favourori (1 item)\" class=\"tag-cloud-link tag-link-7 tag-link-position-9\" href=\"https://blog.favcode54.org/tag/favourori/\" style=\"font-size: 8pt;\">favourori<span class=\"tag-link-count\"> (1)</span></a> <a aria-label=\"forforever (1 item)\" class=\"tag-cloud-link tag-link-12 tag-link-position-10\" href=\"https://blog.favcode54.org/tag/forforever/\" style=\"font-size: 8pt;\">forforever<span class=\"tag-link-count\"> (1)</span></a> <a aria-label=\"form (1 item)\" class=\"tag-cloud-link tag-link-13 tag-link-position-11\" href=\"https://blog.favcode54.org/tag/form/\" style=\"font-size: 8pt;\">form<span class=\"tag-link-count\"> (1)</span></a> <a aria-label=\"nigeria (1 item)\" class=\"tag-cloud-link tag-link-10 tag-link-position-12\" href=\"https://blog.favcode54.org/tag/nigeria/\" style=\"font-size: 8pt;\">nigeria<span class=\"tag-link-count\"> (1)</span></a> <a aria-label=\"SAP (1 item)\" class=\"tag-cloud-link tag-link-20 tag-link-position-13\" href=\"https://blog.favcode54.org/tag/sap/\" style=\"font-size: 8pt;\">SAP<span class=\"tag-link-count\"> (1)</span></a> <a aria-label=\"Student Ambassadors (1 item)\" class=\"tag-cloud-link tag-link-22 tag-link-position-14\" href=\"https://blog.favcode54.org/tag/student-ambassadors/\" style=\"font-size: 8pt;\">Student Ambassadors<span class=\"tag-link-count\"> (1)</span></a> <a aria-label=\"tech (1 item)\" class=\"tag-cloud-link tag-link-5 tag-link-position-15\" href=\"https://blog.favcode54.org/tag/tech/\" style=\"font-size: 8pt;\">tech<span class=\"tag-link-count\"> (1)</span></a></div></div></aside></div></div></div></div></div><div class=\"section related-posts\"><div class=\"container\"><div class=\"row\"><div class=\"col-md-12\"><h2 class=\"hestia-title text-center\">Related Posts</h2><div class=\"row\"><div class=\"col-md-4\"><div class=\"card card-blog\"><div class=\"card-image\"> <a href=\"https://blog.favcode54.org/2018/06/guess-how-many-hours-left-to-close-of-favcode54-applications/\" title=\"Guess How Many Hours Left to Close of FavCode54 Applications?\"> <img alt=\"\" class=\"attachment-hestia-blog size-hestia-blog wp-post-image\" height=\"240\" src=\"https://blog.favcode54.org/wp-content/uploads/2018/06/FAVCODE54-1-360x240.jpg\" width=\"360\"/> </a></div><div class=\"content\"><h6 class=\"category text-info\"><a href=\"https://blog.favcode54.org/category/news-updates/\" title=\"View all posts in News &amp; updates\">News &amp; updates</a></h6><h4 class=\"card-title\"> <a class=\"blog-item-title-link\" href=\"https://blog.favcode54.org/2018/06/guess-how-many-hours-left-to-close-of-favcode54-applications/\" rel=\"bookmark\" title=\"Guess How Many Hours Left to Close of FavCode54 Applications?\"> Guess How Many Hours Left to Close of FavCode54 Applications? </a></h4><p class=\"card-description\">Spread the love      With six days gone in the ongoing FavCode54 application into different programs, it pleases the tech company to announce that applications close 11:59pm today Saturday 16th June, 2018. All entries received will subsequently<a class=\"moretag\" href=\"https://blog.favcode54.org/2018/06/guess-how-many-hours-left-to-close-of-favcode54-applications/\"> Read more…</a></p></div></div></div><div class=\"col-md-4\"><div class=\"card card-blog\"><div class=\"card-image\"> <a href=\"https://blog.favcode54.org/2018/05/over-4000-new-favcode54-students-set-to-begin-classes/\" title=\"Over 4000 New FavCode54 Students Set To Begin Classes\"> <img alt=\"\" class=\"attachment-hestia-blog size-hestia-blog wp-post-image\" height=\"240\" src=\"https://blog.favcode54.org/wp-content/uploads/2018/05/FavCode54-360x240.jpg\" width=\"360\"/> </a></div><div class=\"content\"><h6 class=\"category text-info\"><a href=\"https://blog.favcode54.org/category/news-updates/\" title=\"View all posts in News &amp; updates\">News &amp; updates</a></h6><h4 class=\"card-title\"> <a class=\"blog-item-title-link\" href=\"https://blog.favcode54.org/2018/05/over-4000-new-favcode54-students-set-to-begin-classes/\" rel=\"bookmark\" title=\"Over 4000 New FavCode54 Students Set To Begin Classes\"> Over 4000 New FavCode54 Students Set To Begin Classes </a></h4><p class=\"card-description\">Spread the love109     109SharesWith thousands of applications received just a few months ago from interested applicants scattered across different countries of the world for entry into the FavCode54 Program, admission letters were recently forwarded to all<a class=\"moretag\" href=\"https://blog.favcode54.org/2018/05/over-4000-new-favcode54-students-set-to-begin-classes/\"> Read more…</a></p></div></div></div><div class=\"col-md-4\"><div class=\"card card-blog\"><div class=\"card-image\"> <a href=\"https://blog.favcode54.org/2018/04/applications-for-ibm-watson-class-ii-extended/\" title=\"Applications For IBM Watson Class II Extended\"> <img alt=\"\" class=\"attachment-hestia-blog size-hestia-blog wp-post-image\" height=\"240\" src=\"https://blog.favcode54.org/wp-content/uploads/2018/04/2ND-ARTIFICIALINTELLIGENCECLASS-ON-IBMWATSON-2-4-360x240.jpg\" width=\"360\"/> </a></div><div class=\"content\"><h6 class=\"category text-info\"><a href=\"https://blog.favcode54.org/category/news-updates/\" title=\"View all posts in News &amp; updates\">News &amp; updates</a></h6><h4 class=\"card-title\"> <a class=\"blog-item-title-link\" href=\"https://blog.favcode54.org/2018/04/applications-for-ibm-watson-class-ii-extended/\" rel=\"bookmark\" title=\"Applications For IBM Watson Class II Extended\"> Applications For IBM Watson Class II Extended </a></h4><p class=\"card-description\">Spread the love91     91SharesWe have received a good number of submissions for the 2nd Class of Artificial Intelligence on IBM Watson since the 20th of April with the opening coming to an end tomorrow Friday 27th<a class=\"moretag\" href=\"https://blog.favcode54.org/2018/04/applications-for-ibm-watson-class-ii-extended/\"> Read more…</a></p></div></div></div></div></div></div></div></div><div class=\"footer-wrapper\"><footer class=\"footer footer-black footer-big\"><div class=\"container\"><div class=\"content\"><div class=\"row\"><div class=\"col-md-4\"><div class=\"widget_text widget widget_custom_html\" id=\"custom_html-4\"><div class=\"textwidget custom-html-widget\"><script async=\"\" src=\"//pagead2.googlesyndication.com/pagead/js/adsbygoogle.js\"></script> <ins class=\"adsbygoogle\" data-ad-client=\"ca-pub-9943631061556362\" data-ad-format=\"auto\" data-ad-slot=\"1772483309\" style=\"display:block\"></ins> <script>(adsbygoogle = window.adsbygoogle || []).push({});</script></div></div></div><div class=\"col-md-4\"><div class=\"widget_text widget widget_custom_html\" id=\"custom_html-5\"><div class=\"textwidget custom-html-widget\"><script async=\"\" src=\"//pagead2.googlesyndication.com/pagead/js/adsbygoogle.js\"></script> <ins class=\"adsbygoogle\" data-ad-client=\"ca-pub-9943631061556362\" data-ad-format=\"auto\" data-ad-slot=\"1772483309\" style=\"display:block\"></ins> <script>(adsbygoogle = window.adsbygoogle || []).push({});</script></div></div></div><div class=\"col-md-4\"><div class=\"widget_text widget widget_custom_html\" id=\"custom_html-6\"><div class=\"textwidget custom-html-widget\"><script async=\"\" src=\"//pagead2.googlesyndication.com/pagead/js/adsbygoogle.js\"></script> <ins class=\"adsbygoogle\" data-ad-client=\"ca-pub-9943631061556362\" data-ad-format=\"auto\" data-ad-slot=\"1772483309\" style=\"display:block\"></ins> <script>(adsbygoogle = window.adsbygoogle || []).push({});</script></div></div></div></div></div><hr/><div class=\"hestia-bottom-footer-content\"><div class=\"hestia-bottom-footer-content\"><ul class=\"footer-menu pull-left\" id=\"menu-primary-menu-1\"><li class=\"menu-item menu-item-type-custom menu-item-object-custom menu-item-home menu-item-38\"><a href=\"https://blog.favcode54.org/\"><i aria-hidden=\"true\" class=\"_mi _before dashicons dashicons-admin-home\"></i><span>HOME</span></a></li><li class=\"menu-item menu-item-type-post_type menu-item-object-page menu-item-279\"><a href=\"https://blog.favcode54.org/ai-lab-students/\">Ai Lab students</a></li><li class=\"zerif-cus-btn menu-item menu-item-type-custom menu-item-object-custom menu-item-134\"><a href=\"https://apply.favcode54.org/\"><i aria-hidden=\"true\" class=\"_mi _before dashicons dashicons-migrate\"></i><span>Apply Now</span></a></li></ul><div class=\"copyright pull-right\"> <a href=\"https://themeisle.com/themes/hestia/\" rel=\"nofollow\" target=\"_blank\">Hestia</a> | Powered by <a href=\"http://wordpress.org\" rel=\"nofollow\">WordPress</a></div></div></div></div></footer><div style=\"display: none\"></div></div></div> <script async=\"\" src=\"//pagead2.googlesyndication.com/pagead/js/adsbygoogle.js\"></script> <ins class=\"adsbygoogle\" data-ad-client=\"ca-pub-9943631061556362\" data-ad-format=\"auto\" data-ad-slot=\"1772483309\" style=\"display:block\"></ins> <script>(adsbygoogle = window.adsbygoogle || []).push({});</script> <script type=\"text/javascript\">jQuery(document).ready(function($){var sticky_widget_mode=0;var sticky_widget_margin=15;var document_width=$(document).width();var ai_debug=typeof ai_debugging!==\"undefined\";$(\".ai-sticky-widget\").each(function(){var widget=$(this);var widget_width=widget.width();if(ai_debug)console.log(\"WIDGET:\",widget.width(),widget.prop(\"tagName\"),widget.attr(\"id\"));var already_sticky_js=false;var sidebar=widget.parent();while(sidebar.prop(\"tagName\")!=\n",
       "\"BODY\"){if(sidebar.hasClass(\"theiaStickySidebar\")){already_sticky_js=true;break}if(ai_debug)console.log(\"SIDEBAR:\",sidebar.width(),sidebar.prop(\"tagName\"),sidebar.attr(\"id\"));var parent_element=sidebar.parent();var parent_element_width=parent_element.width();if(parent_element_width>widget_width*1.2||parent_element_width>document_width/2)break;sidebar=parent_element}if(already_sticky_js){if(ai_debug)console.log(\"JS STICKY SIDEBAR ALREADY SET\");return}var new_sidebar_top=sidebar.offset().top-widget.offset().top+\n",
       "sticky_widget_margin;if(ai_debug)console.log(\"NEW SIDEBAR TOP:\",new_sidebar_top);if(sticky_widget_mode==0)if(sidebar.css(\"position\")!=\"sticky\"||isNaN(parseInt(sidebar.css(\"top\")))||sidebar.css(\"top\")<new_sidebar_top){sidebar.css(\"position\",\"sticky\").css(\"top\",new_sidebar_top);if(ai_debug)console.log(\"CSS STICKY SIDEBAR, TOP:\",new_sidebar_top)}else{if(ai_debug)console.log(\"CSS STICKY SIDEBAR ALREADY SET\")}else{sidebar.theiaStickySidebar({additionalMarginTop:new_sidebar_top,sidebarBehavior:\"stick-to-top\"});\n",
       "if(ai_debug)console.log(\"JS STICKY SIDEBAR, TOP:\",new_sidebar_top)}})});</script> <script>var advanced_ads_ga_UID = false;\n",
       "\t\tadvanced_ads_check_adblocker=function(t){function e(t){(window.requestAnimationFrame||window.mozRequestAnimationFrame||window.webkitRequestAnimationFrame||function(t){return setTimeout(t,16)}).call(window,t)}var n=[],a=null;return e(function(){var t=document.createElement(\"div\");t.innerHTML=\"&nbsp;\",t.setAttribute(\"class\",\"ad_unit ad-unit text-ad text_ad pub_300x250\"),t.setAttribute(\"style\",\"width: 1px !important; height: 1px !important; position: absolute !important; left: 0px !important; top: 0px !important; overflow: hidden !important;\"),document.body.appendChild(t),e(function(){var e=window.getComputedStyle&&window.getComputedStyle(t),o=e&&e.getPropertyValue(\"-moz-binding\");a=e&&\"none\"===e.getPropertyValue(\"display\")||\"string\"==typeof o&&-1!==o.indexOf(\"about:\");for(var i=0;i<n.length;i++)n[i](a);n=[]})}),function(t){if(null===a)return void n.push(t);t(a)}}(),function(){var t=function(t,e){this.name=t,this.UID=e,this.analyticsObject=null;var n=this,a={hitType:\"event\",eventCategory:\"Advanced Ads\",eventAction:\"AdBlock\",eventLabel:\"Yes\",nonInteraction:!0,transport:\"beacon\"};this.analyticsObject=\"string\"==typeof GoogleAnalyticsObject&&\"function\"==typeof window[GoogleAnalyticsObject]&&window[GoogleAnalyticsObject],!1===this.analyticsObject?(!function(t,e,n,a,o,i,d){t.GoogleAnalyticsObject=o,t[o]=t[o]||function(){(t[o].q=t[o].q||[]).push(arguments)},t[o].l=1*new Date,i=e.createElement(n),d=e.getElementsByTagName(n)[0],i.async=1,i.src=\"https://www.google-analytics.com/analytics.js\",d.parentNode.insertBefore(i,d)}(window,document,\"script\",0,\"_advads_ga\"),_advads_ga(\"create\",n.UID,\"auto\",this.name),_advads_ga(n.name+\".send\",a)):(window.console&&window.console.log(\"Advanced Ads Analytics >> using other's variable named `\"+GoogleAnalyticsObject+\"`\"),window[GoogleAnalyticsObject](\"create\",n.UID,\"auto\",this.name),window[GoogleAnalyticsObject](n.name+\".send\",a))};advanced_ads_check_adblocker(function(e){e&&\"string\"==typeof advanced_ads_ga_UID&&advanced_ads_ga_UID&&new t(\"advadsTracker\",advanced_ads_ga_UID)})}();</script> <div id=\"watsonconv-floating-box\"></div> <button class=\"hestia-scroll-to-top\"> <i aria-hidden=\"true\" class=\"fa fa-angle-double-up\"></i> </button><div id=\"fb-root\"></div> <script type=\"text/javascript\">var watsonconvSettings = {\"delay\":\"0\",\"minimized\":\"no\",\"position\":[\"bottom\",\"right\"],\"title\":\"Tolu - FavCode\\u2019s Ai\",\"clearText\":\"Clear Messages\",\"messagePrompt\":\"Type a Message\",\"fullScreen\":{\"mode\":\"mobile\",\"max_width\":\"640px\",\"query\":\"@media screen and (max-width:640px) { %s }\"},\"showSendBtn\":\"yes\",\"fabConfig\":{\"iconPos\":\"left\",\"text\":\"Chat Now \\ud83e\\udd16\"},\"callConfig\":{\"useTwilio\":\"no\",\"configured\":false,\"recipient\":\"9182300201\",\"callTooltip\":\"Talk to a Live Agent\",\"callButton\":\"Start Toll-Free Call Here\",\"callingText\":\"Calling Agent...\"}};</script> <script type=\"text/javascript\">var countVars = {\"disqusShortname\":\"favcode54\"};</script> <script type=\"text/javascript\">var embedVars = {\"disqusConfig\":{\"integration\":\"wordpress 3.0.15\"},\"disqusIdentifier\":\"423 https:\\/\\/blog.favcode54.org\\/?p=423\",\"disqusShortname\":\"favcode54\",\"disqusTitle\":\"22 Become FavCode54 Student Ambassadors\",\"disqusUrl\":\"https:\\/\\/blog.favcode54.org\\/2018\\/07\\/22-become-favcode54-student-ambassadors\\/\",\"postId\":\"423\"};</script> <script type=\"text/javascript\">var requestpost = {\"ajaxurl\":\"https:\\/\\/blog.favcode54.org\\/wp-admin\\/admin-ajax.php\"};\n",
       "var hestiaViewcart = {\"view_cart_label\":\"View cart\",\"view_cart_link\":\"\"};</script> <script defer=\"\" src=\"https://blog.favcode54.org/wp-content/cache/autoptimize/js/autoptimize_58aa37a453aa4b53041727b1f03d5fdf.js\" type=\"text/javascript\"></script></body></html>"
      ]
     },
     "execution_count": 13,
     "metadata": {},
     "output_type": "execute_result"
    }
   ],
   "source": [
    "soup = bs(fetched_data, 'lxml')\n",
    "soup"
   ]
  },
  {
   "cell_type": "code",
   "execution_count": 10,
   "metadata": {},
   "outputs": [
    {
     "name": "stdout",
     "output_type": "stream",
     "text": [
      "Charles Ijeoma Marvis\n",
      "Abia State University\n",
      "Akerele Abraham\n",
      "Federal University of Technology, Akure\n",
      "Omeh Anthony Ogbonna\n",
      "Federal University of Technology, Akure\n",
      "Ebeh Elisha Chidera\n",
      "Michael Okpara University Of Agriculture, Umudike\n",
      "Oluwafemi Olasubomi Aramide\n",
      "Federal University of Technology, Akure\n",
      "Adelakun Temilade Ruth\n",
      "University of Ibadan\n",
      "Hammed Busirah Olaitan\n",
      "Obafemi Awolowo University\n",
      "Ademola Olokun\n",
      "Ladoke Akintola University of Technology, Ogbomoso\n",
      "Amadi Precious Oluchi\n",
      "Cross River University of Technology\n",
      "Obasi Nancy\n",
      "Alex-Ekwueme Federal University Ndufu Alike Ikwo\n",
      "Oscar Ikechukwu Ekeyekwu\n",
      "University of Calabar\n",
      "Yayah Mohammed Abiola\n",
      "Kwara State Polytechnic, Illorin\n",
      "Japhlet Chinonso Nwamu\n",
      "University of Benin\n",
      "Afolayan Raphael Oluwaseun\n",
      "Lagos City Computer College/ Lagos City polytechnic\n",
      "Bolaji Ayodeji\n",
      "Federal University Lokoja, Kogi State\n",
      "Jinanwa Ekeledirichukwu Somtochukwu\n",
      "University of Port Harcourt\n",
      "Joyce Marcus\n",
      "Benson Idahosa University\n",
      "Omang Collins Obi\n",
      "University of Calabar.\n",
      "Onyenanu Princewill Odichinma\n",
      "Federal University Of Technology, Owerri\n",
      "Adejumo Elijah Kayode\n",
      "University of Port Harcourt\n",
      "Emeka Rhema Chiemenem\n",
      "University of Port Harcourt\n",
      "Franklin Obasi\n",
      "University of Port Harcourt\n"
     ]
    }
   ],
   "source": [
    "for data in soup('td'):\n",
    "    print(data.text)"
   ]
  },
  {
   "cell_type": "code",
   "execution_count": 15,
   "metadata": {},
   "outputs": [],
   "source": [
    "list_of_rows = []\n",
    "for rows in soup.findAll('tr'):\n",
    "    list_of_cells = []\n",
    "    for cells in rows.findAll('td'):\n",
    "        text = cells.text\n",
    "        list_of_cells.append(text)\n",
    "    list_of_rows.append(list_of_cells)"
   ]
  },
  {
   "cell_type": "code",
   "execution_count": 26,
   "metadata": {},
   "outputs": [
    {
     "data": {
      "text/html": [
       "<div>\n",
       "<style scoped>\n",
       "    .dataframe tbody tr th:only-of-type {\n",
       "        vertical-align: middle;\n",
       "    }\n",
       "\n",
       "    .dataframe tbody tr th {\n",
       "        vertical-align: top;\n",
       "    }\n",
       "\n",
       "    .dataframe thead th {\n",
       "        text-align: right;\n",
       "    }\n",
       "</style>\n",
       "<table border=\"1\" class=\"dataframe\">\n",
       "  <thead>\n",
       "    <tr style=\"text-align: right;\">\n",
       "      <th></th>\n",
       "      <th>Ambassadors</th>\n",
       "      <th>School</th>\n",
       "    </tr>\n",
       "  </thead>\n",
       "  <tbody>\n",
       "    <tr>\n",
       "      <th>0</th>\n",
       "      <td>Charles Ijeoma Marvis</td>\n",
       "      <td>Abia State University</td>\n",
       "    </tr>\n",
       "    <tr>\n",
       "      <th>1</th>\n",
       "      <td>Akerele Abraham</td>\n",
       "      <td>Federal University of Technology, Akure</td>\n",
       "    </tr>\n",
       "    <tr>\n",
       "      <th>2</th>\n",
       "      <td>Omeh Anthony Ogbonna</td>\n",
       "      <td>Federal University of Technology, Akure</td>\n",
       "    </tr>\n",
       "    <tr>\n",
       "      <th>3</th>\n",
       "      <td>Ebeh Elisha Chidera</td>\n",
       "      <td>Michael Okpara University Of Agriculture, Umudike</td>\n",
       "    </tr>\n",
       "    <tr>\n",
       "      <th>4</th>\n",
       "      <td>Oluwafemi Olasubomi Aramide</td>\n",
       "      <td>Federal University of Technology, Akure</td>\n",
       "    </tr>\n",
       "    <tr>\n",
       "      <th>5</th>\n",
       "      <td>Adelakun Temilade Ruth</td>\n",
       "      <td>University of Ibadan</td>\n",
       "    </tr>\n",
       "    <tr>\n",
       "      <th>6</th>\n",
       "      <td>Hammed Busirah Olaitan</td>\n",
       "      <td>Obafemi Awolowo University</td>\n",
       "    </tr>\n",
       "    <tr>\n",
       "      <th>7</th>\n",
       "      <td>Ademola Olokun</td>\n",
       "      <td>Ladoke Akintola University of Technology, Ogbo...</td>\n",
       "    </tr>\n",
       "    <tr>\n",
       "      <th>8</th>\n",
       "      <td>Amadi Precious Oluchi</td>\n",
       "      <td>Cross River University of Technology</td>\n",
       "    </tr>\n",
       "    <tr>\n",
       "      <th>9</th>\n",
       "      <td>Obasi Nancy</td>\n",
       "      <td>Alex-Ekwueme Federal University Ndufu Alike Ikwo</td>\n",
       "    </tr>\n",
       "    <tr>\n",
       "      <th>10</th>\n",
       "      <td>Oscar Ikechukwu Ekeyekwu</td>\n",
       "      <td>University of Calabar</td>\n",
       "    </tr>\n",
       "    <tr>\n",
       "      <th>11</th>\n",
       "      <td>Yayah Mohammed Abiola</td>\n",
       "      <td>Kwara State Polytechnic, Illorin</td>\n",
       "    </tr>\n",
       "    <tr>\n",
       "      <th>12</th>\n",
       "      <td>Japhlet Chinonso Nwamu</td>\n",
       "      <td>University of Benin</td>\n",
       "    </tr>\n",
       "    <tr>\n",
       "      <th>13</th>\n",
       "      <td>Afolayan Raphael Oluwaseun</td>\n",
       "      <td>Lagos City Computer College/ Lagos City polyte...</td>\n",
       "    </tr>\n",
       "    <tr>\n",
       "      <th>14</th>\n",
       "      <td>Bolaji Ayodeji</td>\n",
       "      <td>Federal University Lokoja, Kogi State</td>\n",
       "    </tr>\n",
       "    <tr>\n",
       "      <th>15</th>\n",
       "      <td>Jinanwa Ekeledirichukwu Somtochukwu</td>\n",
       "      <td>University of Port Harcourt</td>\n",
       "    </tr>\n",
       "    <tr>\n",
       "      <th>16</th>\n",
       "      <td>Joyce Marcus</td>\n",
       "      <td>Benson Idahosa University</td>\n",
       "    </tr>\n",
       "    <tr>\n",
       "      <th>17</th>\n",
       "      <td>Omang Collins Obi</td>\n",
       "      <td>University of Calabar.</td>\n",
       "    </tr>\n",
       "    <tr>\n",
       "      <th>18</th>\n",
       "      <td>Onyenanu Princewill Odichinma</td>\n",
       "      <td>Federal University Of Technology, Owerri</td>\n",
       "    </tr>\n",
       "    <tr>\n",
       "      <th>19</th>\n",
       "      <td>Adejumo Elijah Kayode</td>\n",
       "      <td>University of Port Harcourt</td>\n",
       "    </tr>\n",
       "    <tr>\n",
       "      <th>20</th>\n",
       "      <td>Emeka Rhema Chiemenem</td>\n",
       "      <td>University of Port Harcourt</td>\n",
       "    </tr>\n",
       "    <tr>\n",
       "      <th>21</th>\n",
       "      <td>Franklin Obasi</td>\n",
       "      <td>University of Port Harcourt</td>\n",
       "    </tr>\n",
       "  </tbody>\n",
       "</table>\n",
       "</div>"
      ],
      "text/plain": [
       "                            Ambassadors  \\\n",
       "0                 Charles Ijeoma Marvis   \n",
       "1                       Akerele Abraham   \n",
       "2                  Omeh Anthony Ogbonna   \n",
       "3                   Ebeh Elisha Chidera   \n",
       "4           Oluwafemi Olasubomi Aramide   \n",
       "5                Adelakun Temilade Ruth   \n",
       "6                Hammed Busirah Olaitan   \n",
       "7                        Ademola Olokun   \n",
       "8                 Amadi Precious Oluchi   \n",
       "9                           Obasi Nancy   \n",
       "10             Oscar Ikechukwu Ekeyekwu   \n",
       "11                Yayah Mohammed Abiola   \n",
       "12               Japhlet Chinonso Nwamu   \n",
       "13           Afolayan Raphael Oluwaseun   \n",
       "14                       Bolaji Ayodeji   \n",
       "15  Jinanwa Ekeledirichukwu Somtochukwu   \n",
       "16                         Joyce Marcus   \n",
       "17                    Omang Collins Obi   \n",
       "18        Onyenanu Princewill Odichinma   \n",
       "19                Adejumo Elijah Kayode   \n",
       "20                Emeka Rhema Chiemenem   \n",
       "21                       Franklin Obasi   \n",
       "\n",
       "                                               School  \n",
       "0                               Abia State University  \n",
       "1             Federal University of Technology, Akure  \n",
       "2             Federal University of Technology, Akure  \n",
       "3   Michael Okpara University Of Agriculture, Umudike  \n",
       "4             Federal University of Technology, Akure  \n",
       "5                                University of Ibadan  \n",
       "6                          Obafemi Awolowo University  \n",
       "7   Ladoke Akintola University of Technology, Ogbo...  \n",
       "8                Cross River University of Technology  \n",
       "9    Alex-Ekwueme Federal University Ndufu Alike Ikwo  \n",
       "10                              University of Calabar  \n",
       "11                   Kwara State Polytechnic, Illorin  \n",
       "12                                University of Benin  \n",
       "13  Lagos City Computer College/ Lagos City polyte...  \n",
       "14              Federal University Lokoja, Kogi State  \n",
       "15                        University of Port Harcourt  \n",
       "16                          Benson Idahosa University  \n",
       "17                             University of Calabar.  \n",
       "18           Federal University Of Technology, Owerri  \n",
       "19                        University of Port Harcourt  \n",
       "20                        University of Port Harcourt  \n",
       "21                        University of Port Harcourt  "
      ]
     },
     "execution_count": 26,
     "metadata": {},
     "output_type": "execute_result"
    }
   ],
   "source": [
    "fav_amb = pd.DataFrame(list_of_rows, columns=['Ambassadors', 'School'])\n",
    "fav_amb"
   ]
  },
  {
   "cell_type": "code",
   "execution_count": 17,
   "metadata": {},
   "outputs": [
    {
     "name": "stdout",
     "output_type": "stream",
     "text": [
      "<class 'pandas.core.frame.DataFrame'>\n",
      "RangeIndex: 22 entries, 0 to 21\n",
      "Data columns (total 2 columns):\n",
      "Ambassadors    22 non-null object\n",
      "School         22 non-null object\n",
      "dtypes: object(2)\n",
      "memory usage: 432.0+ bytes\n"
     ]
    }
   ],
   "source": [
    "fav_amb.info()"
   ]
  },
  {
   "cell_type": "code",
   "execution_count": 18,
   "metadata": {},
   "outputs": [
    {
     "data": {
      "text/html": [
       "<div>\n",
       "<style scoped>\n",
       "    .dataframe tbody tr th:only-of-type {\n",
       "        vertical-align: middle;\n",
       "    }\n",
       "\n",
       "    .dataframe tbody tr th {\n",
       "        vertical-align: top;\n",
       "    }\n",
       "\n",
       "    .dataframe thead th {\n",
       "        text-align: right;\n",
       "    }\n",
       "</style>\n",
       "<table border=\"1\" class=\"dataframe\">\n",
       "  <thead>\n",
       "    <tr style=\"text-align: right;\">\n",
       "      <th></th>\n",
       "      <th>Ambassadors</th>\n",
       "      <th>School</th>\n",
       "    </tr>\n",
       "  </thead>\n",
       "  <tbody>\n",
       "    <tr>\n",
       "      <th>count</th>\n",
       "      <td>22</td>\n",
       "      <td>22</td>\n",
       "    </tr>\n",
       "    <tr>\n",
       "      <th>unique</th>\n",
       "      <td>22</td>\n",
       "      <td>17</td>\n",
       "    </tr>\n",
       "    <tr>\n",
       "      <th>top</th>\n",
       "      <td>Adejumo Elijah Kayode</td>\n",
       "      <td>University of Port Harcourt</td>\n",
       "    </tr>\n",
       "    <tr>\n",
       "      <th>freq</th>\n",
       "      <td>1</td>\n",
       "      <td>4</td>\n",
       "    </tr>\n",
       "  </tbody>\n",
       "</table>\n",
       "</div>"
      ],
      "text/plain": [
       "                  Ambassadors                       School\n",
       "count                      22                           22\n",
       "unique                     22                           17\n",
       "top     Adejumo Elijah Kayode  University of Port Harcourt\n",
       "freq                        1                            4"
      ]
     },
     "execution_count": 18,
     "metadata": {},
     "output_type": "execute_result"
    }
   ],
   "source": [
    "fav_amb.describe()"
   ]
  },
  {
   "cell_type": "code",
   "execution_count": 28,
   "metadata": {},
   "outputs": [
    {
     "data": {
      "text/plain": [
       "University of Port Harcourt                            4\n",
       "Federal University of Technology, Akure                3\n",
       "University of Ibadan                                   1\n",
       "Alex-Ekwueme Federal University Ndufu Alike Ikwo       1\n",
       "University of Calabar                                  1\n",
       "Lagos City Computer College/ Lagos City polytechnic    1\n",
       "Obafemi Awolowo University                             1\n",
       "Federal University Lokoja, Kogi State                  1\n",
       "Cross River University of Technology                   1\n",
       "University of Calabar.                                 1\n",
       "Michael Okpara University Of Agriculture, Umudike      1\n",
       "University of Benin                                    1\n",
       "Abia State University                                  1\n",
       "Benson Idahosa University                              1\n",
       "Ladoke Akintola University of Technology, Ogbomoso     1\n",
       "Federal University Of Technology, Owerri               1\n",
       "Kwara State Polytechnic, Illorin                       1\n",
       "Name: School, dtype: int64"
      ]
     },
     "execution_count": 28,
     "metadata": {},
     "output_type": "execute_result"
    }
   ],
   "source": [
    "fav_amb['School'].value_counts()"
   ]
  },
  {
   "cell_type": "code",
   "execution_count": 29,
   "metadata": {},
   "outputs": [],
   "source": [
    "fav_amb.to_csv('fav_amb.csv', index = False)"
   ]
  },
  {
   "cell_type": "code",
   "execution_count": null,
   "metadata": {},
   "outputs": [],
   "source": []
  }
 ],
 "metadata": {
  "kernelspec": {
   "display_name": "Python 3",
   "language": "python",
   "name": "python3"
  },
  "language_info": {
   "codemirror_mode": {
    "name": "ipython",
    "version": 3
   },
   "file_extension": ".py",
   "mimetype": "text/x-python",
   "name": "python",
   "nbconvert_exporter": "python",
   "pygments_lexer": "ipython3",
   "version": "3.6.4"
  }
 },
 "nbformat": 4,
 "nbformat_minor": 2
}
